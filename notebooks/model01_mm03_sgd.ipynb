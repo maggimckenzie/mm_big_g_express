{
 "cells": [
  {
   "cell_type": "code",
   "execution_count": 1,
   "id": "af892c6d",
   "metadata": {},
   "outputs": [],
   "source": [
    "from sklearn.datasets import fetch_openml\n",
    "import matplotlib as mpl\n",
    "import matplotlib.pyplot as plt\n",
    "import numpy as np\n",
    "import pandas as pd\n",
    "import seaborn as sns\n",
    "from datetime import datetime\n",
    "from sklearn.pipeline import Pipeline\n",
    "from sklearn.preprocessing import StandardScaler\n",
    "from sklearn.linear_model import SGDClassifier, LogisticRegression\n",
    "from sklearn.model_selection import cross_val_score, cross_val_predict, train_test_split\n",
    "from sklearn.metrics import confusion_matrix, precision_score, recall_score, f1_score, precision_recall_curve\n",
    "from sklearn.metrics import roc_curve, classification_report, accuracy_score\n",
    "from imblearn.under_sampling import RandomUnderSampler\n",
    "from imblearn.over_sampling import RandomOverSampler, SMOTE\n",
    "from cm import plot_confusion_matrix\n",
    "from sklearn import metrics"
   ]
  },
  {
   "cell_type": "markdown",
   "id": "1a559518",
   "metadata": {},
   "source": [
    "## Note: the train/test split on this model needs to be refined"
   ]
  },
  {
   "cell_type": "code",
   "execution_count": 2,
   "id": "d13a557a",
   "metadata": {},
   "outputs": [],
   "source": [
    "parse_dates = ['EventTimeStamp','NextDerateTimestamp']\n",
    "#faults_sgd_full = pd.read_csv('../data/faults_3_30.csv')\n",
    "#faults_sgd_full = pd.read_csv('../data/faults_3_15.csv')\n",
    "#faults_sgd_full = pd.read_csv('../data/faults_3_3.csv')\n",
    "#faults_sgd_full = pd.read_csv('../data/faults_5_10.csv')\n",
    "#faults_sgd_full = pd.read_csv('../data/faults_15_15.csv')\n",
    "faults_sgd_full = pd.read_csv('../data/faults_2_2.csv', parse_dates = parse_dates)\n",
    "#faults_sgd_full = pd.read_csv('../data/faults_1_2.csv')\n",
    "#faults_sgd_full = pd.read_csv('../data/faults_2_1.csv')\n",
    "#faults_sgd_full = pd.read_csv('../data/faults_2_3.csv')\n",
    "#faults_sgd_full = pd.read_csv('../data/faults_3_2.csv')\n",
    "#faults_sgd_full = pd.read_csv('../data/faults_1_1.csv')"
   ]
  },
  {
   "cell_type": "code",
   "execution_count": 3,
   "id": "854fe55c",
   "metadata": {},
   "outputs": [
    {
     "data": {
      "text/html": [
       "<div>\n",
       "<style scoped>\n",
       "    .dataframe tbody tr th:only-of-type {\n",
       "        vertical-align: middle;\n",
       "    }\n",
       "\n",
       "    .dataframe tbody tr th {\n",
       "        vertical-align: top;\n",
       "    }\n",
       "\n",
       "    .dataframe thead th {\n",
       "        text-align: right;\n",
       "    }\n",
       "</style>\n",
       "<table border=\"1\" class=\"dataframe\">\n",
       "  <thead>\n",
       "    <tr style=\"text-align: right;\">\n",
       "      <th></th>\n",
       "      <th>EquipmentID</th>\n",
       "      <th>EventTimeStamp</th>\n",
       "      <th>InFailureWindow</th>\n",
       "      <th>NextDerateTimestamp</th>\n",
       "      <th>BarometricPressure</th>\n",
       "      <th>DistanceLtd</th>\n",
       "      <th>EngineCoolantTemperature</th>\n",
       "      <th>EngineLoad</th>\n",
       "      <th>EngineOilPressure</th>\n",
       "      <th>EngineOilTemperature</th>\n",
       "      <th>...</th>\n",
       "      <th>Summ_723</th>\n",
       "      <th>Summ_7827</th>\n",
       "      <th>Summ_7854</th>\n",
       "      <th>Summ_81</th>\n",
       "      <th>Summ_84</th>\n",
       "      <th>Summ_862</th>\n",
       "      <th>Summ_91</th>\n",
       "      <th>Summ_95</th>\n",
       "      <th>Summ_96</th>\n",
       "      <th>Summ_97</th>\n",
       "    </tr>\n",
       "  </thead>\n",
       "  <tbody>\n",
       "    <tr>\n",
       "      <th>0</th>\n",
       "      <td>1327</td>\n",
       "      <td>2015-05-19 12:02:55</td>\n",
       "      <td>0</td>\n",
       "      <td>NaT</td>\n",
       "      <td>14.355</td>\n",
       "      <td>520309.6</td>\n",
       "      <td>185.0</td>\n",
       "      <td>0.0</td>\n",
       "      <td>31.90</td>\n",
       "      <td>203.8438</td>\n",
       "      <td>...</td>\n",
       "      <td>0.0</td>\n",
       "      <td>0.0</td>\n",
       "      <td>0.0</td>\n",
       "      <td>0.0</td>\n",
       "      <td>0.0</td>\n",
       "      <td>0.0</td>\n",
       "      <td>0.0</td>\n",
       "      <td>0.0</td>\n",
       "      <td>0.0</td>\n",
       "      <td>0.0</td>\n",
       "    </tr>\n",
       "    <tr>\n",
       "      <th>1</th>\n",
       "      <td>1327</td>\n",
       "      <td>2015-05-26 08:11:45</td>\n",
       "      <td>0</td>\n",
       "      <td>NaT</td>\n",
       "      <td>NaN</td>\n",
       "      <td>NaN</td>\n",
       "      <td>NaN</td>\n",
       "      <td>NaN</td>\n",
       "      <td>NaN</td>\n",
       "      <td>NaN</td>\n",
       "      <td>...</td>\n",
       "      <td>0.0</td>\n",
       "      <td>0.0</td>\n",
       "      <td>0.0</td>\n",
       "      <td>0.0</td>\n",
       "      <td>0.0</td>\n",
       "      <td>0.0</td>\n",
       "      <td>0.0</td>\n",
       "      <td>0.0</td>\n",
       "      <td>0.0</td>\n",
       "      <td>0.0</td>\n",
       "    </tr>\n",
       "    <tr>\n",
       "      <th>2</th>\n",
       "      <td>1327</td>\n",
       "      <td>2015-05-26 08:44:10</td>\n",
       "      <td>0</td>\n",
       "      <td>NaT</td>\n",
       "      <td>14.355</td>\n",
       "      <td>520314.6</td>\n",
       "      <td>161.6</td>\n",
       "      <td>45.0</td>\n",
       "      <td>38.86</td>\n",
       "      <td>154.5125</td>\n",
       "      <td>...</td>\n",
       "      <td>0.0</td>\n",
       "      <td>0.0</td>\n",
       "      <td>0.0</td>\n",
       "      <td>0.0</td>\n",
       "      <td>0.0</td>\n",
       "      <td>0.0</td>\n",
       "      <td>0.0</td>\n",
       "      <td>0.0</td>\n",
       "      <td>0.0</td>\n",
       "      <td>0.0</td>\n",
       "    </tr>\n",
       "    <tr>\n",
       "      <th>3</th>\n",
       "      <td>1327</td>\n",
       "      <td>2015-05-28 09:45:18</td>\n",
       "      <td>0</td>\n",
       "      <td>NaT</td>\n",
       "      <td>NaN</td>\n",
       "      <td>NaN</td>\n",
       "      <td>NaN</td>\n",
       "      <td>NaN</td>\n",
       "      <td>NaN</td>\n",
       "      <td>NaN</td>\n",
       "      <td>...</td>\n",
       "      <td>0.0</td>\n",
       "      <td>0.0</td>\n",
       "      <td>0.0</td>\n",
       "      <td>0.0</td>\n",
       "      <td>0.0</td>\n",
       "      <td>0.0</td>\n",
       "      <td>0.0</td>\n",
       "      <td>0.0</td>\n",
       "      <td>0.0</td>\n",
       "      <td>0.0</td>\n",
       "    </tr>\n",
       "    <tr>\n",
       "      <th>4</th>\n",
       "      <td>1327</td>\n",
       "      <td>2015-06-03 15:24:27</td>\n",
       "      <td>0</td>\n",
       "      <td>NaT</td>\n",
       "      <td>NaN</td>\n",
       "      <td>NaN</td>\n",
       "      <td>NaN</td>\n",
       "      <td>NaN</td>\n",
       "      <td>NaN</td>\n",
       "      <td>NaN</td>\n",
       "      <td>...</td>\n",
       "      <td>0.0</td>\n",
       "      <td>0.0</td>\n",
       "      <td>0.0</td>\n",
       "      <td>0.0</td>\n",
       "      <td>0.0</td>\n",
       "      <td>0.0</td>\n",
       "      <td>0.0</td>\n",
       "      <td>0.0</td>\n",
       "      <td>0.0</td>\n",
       "      <td>0.0</td>\n",
       "    </tr>\n",
       "  </tbody>\n",
       "</table>\n",
       "<p>5 rows × 158 columns</p>\n",
       "</div>"
      ],
      "text/plain": [
       "   EquipmentID      EventTimeStamp  InFailureWindow NextDerateTimestamp  \\\n",
       "0         1327 2015-05-19 12:02:55                0                 NaT   \n",
       "1         1327 2015-05-26 08:11:45                0                 NaT   \n",
       "2         1327 2015-05-26 08:44:10                0                 NaT   \n",
       "3         1327 2015-05-28 09:45:18                0                 NaT   \n",
       "4         1327 2015-06-03 15:24:27                0                 NaT   \n",
       "\n",
       "   BarometricPressure  DistanceLtd  EngineCoolantTemperature  EngineLoad  \\\n",
       "0              14.355     520309.6                     185.0         0.0   \n",
       "1                 NaN          NaN                       NaN         NaN   \n",
       "2              14.355     520314.6                     161.6        45.0   \n",
       "3                 NaN          NaN                       NaN         NaN   \n",
       "4                 NaN          NaN                       NaN         NaN   \n",
       "\n",
       "   EngineOilPressure  EngineOilTemperature  ...  Summ_723  Summ_7827  \\\n",
       "0              31.90              203.8438  ...       0.0        0.0   \n",
       "1                NaN                   NaN  ...       0.0        0.0   \n",
       "2              38.86              154.5125  ...       0.0        0.0   \n",
       "3                NaN                   NaN  ...       0.0        0.0   \n",
       "4                NaN                   NaN  ...       0.0        0.0   \n",
       "\n",
       "   Summ_7854  Summ_81  Summ_84  Summ_862  Summ_91  Summ_95  Summ_96  Summ_97  \n",
       "0        0.0      0.0      0.0       0.0      0.0      0.0      0.0      0.0  \n",
       "1        0.0      0.0      0.0       0.0      0.0      0.0      0.0      0.0  \n",
       "2        0.0      0.0      0.0       0.0      0.0      0.0      0.0      0.0  \n",
       "3        0.0      0.0      0.0       0.0      0.0      0.0      0.0      0.0  \n",
       "4        0.0      0.0      0.0       0.0      0.0      0.0      0.0      0.0  \n",
       "\n",
       "[5 rows x 158 columns]"
      ]
     },
     "execution_count": 3,
     "metadata": {},
     "output_type": "execute_result"
    }
   ],
   "source": [
    "faults_sgd_full.head()"
   ]
  },
  {
   "cell_type": "code",
   "execution_count": 4,
   "id": "7f3be487",
   "metadata": {},
   "outputs": [],
   "source": [
    "equip_ids = pd.DataFrame(faults_sgd_full['EquipmentID'].unique(), columns=['EquipmentID'])\n",
    "np.random.seed(217)\n",
    "equip_ids['AssignGroup']=(np.random.randint(0,10000, equip_ids.shape[0]))/10000\n",
    "equip_ids['ModelGroup'] = np.where(equip_ids['AssignGroup'] <=.65, 'Train', 'Test')\n",
    "#equip_ids.head()\n",
    "faults_sgd_full = faults_sgd_full.merge(equip_ids, on=['EquipmentID'])"
   ]
  },
  {
   "cell_type": "code",
   "execution_count": 5,
   "id": "4f7d8ca9",
   "metadata": {},
   "outputs": [
    {
     "name": "stdout",
     "output_type": "stream",
     "text": [
      "ModelGroup\n",
      "Test     296\n",
      "Train    546\n",
      "Name: AssignGroup, dtype: int64\n",
      "ModelGroup\n",
      "Test     686\n",
      "Train    801\n",
      "Name: InFailureWindow, dtype: int64\n"
     ]
    },
    {
     "data": {
      "text/html": [
       "<div>\n",
       "<style scoped>\n",
       "    .dataframe tbody tr th:only-of-type {\n",
       "        vertical-align: middle;\n",
       "    }\n",
       "\n",
       "    .dataframe tbody tr th {\n",
       "        vertical-align: top;\n",
       "    }\n",
       "\n",
       "    .dataframe thead th {\n",
       "        text-align: right;\n",
       "    }\n",
       "</style>\n",
       "<table border=\"1\" class=\"dataframe\">\n",
       "  <thead>\n",
       "    <tr style=\"text-align: right;\">\n",
       "      <th></th>\n",
       "      <th>EquipmentID</th>\n",
       "      <th>EventTimeStamp</th>\n",
       "      <th>InFailureWindow</th>\n",
       "      <th>NextDerateTimestamp</th>\n",
       "      <th>BarometricPressure</th>\n",
       "      <th>DistanceLtd</th>\n",
       "      <th>EngineCoolantTemperature</th>\n",
       "      <th>EngineLoad</th>\n",
       "      <th>EngineOilPressure</th>\n",
       "      <th>EngineOilTemperature</th>\n",
       "      <th>...</th>\n",
       "      <th>Summ_7854</th>\n",
       "      <th>Summ_81</th>\n",
       "      <th>Summ_84</th>\n",
       "      <th>Summ_862</th>\n",
       "      <th>Summ_91</th>\n",
       "      <th>Summ_95</th>\n",
       "      <th>Summ_96</th>\n",
       "      <th>Summ_97</th>\n",
       "      <th>AssignGroup</th>\n",
       "      <th>ModelGroup</th>\n",
       "    </tr>\n",
       "  </thead>\n",
       "  <tbody>\n",
       "    <tr>\n",
       "      <th>0</th>\n",
       "      <td>1327</td>\n",
       "      <td>2015-05-19 12:02:55</td>\n",
       "      <td>0</td>\n",
       "      <td>NaT</td>\n",
       "      <td>14.355</td>\n",
       "      <td>520309.6</td>\n",
       "      <td>185.0</td>\n",
       "      <td>0.0</td>\n",
       "      <td>31.90</td>\n",
       "      <td>203.8438</td>\n",
       "      <td>...</td>\n",
       "      <td>0.0</td>\n",
       "      <td>0.0</td>\n",
       "      <td>0.0</td>\n",
       "      <td>0.0</td>\n",
       "      <td>0.0</td>\n",
       "      <td>0.0</td>\n",
       "      <td>0.0</td>\n",
       "      <td>0.0</td>\n",
       "      <td>0.4754</td>\n",
       "      <td>Train</td>\n",
       "    </tr>\n",
       "    <tr>\n",
       "      <th>1</th>\n",
       "      <td>1327</td>\n",
       "      <td>2015-05-26 08:11:45</td>\n",
       "      <td>0</td>\n",
       "      <td>NaT</td>\n",
       "      <td>NaN</td>\n",
       "      <td>NaN</td>\n",
       "      <td>NaN</td>\n",
       "      <td>NaN</td>\n",
       "      <td>NaN</td>\n",
       "      <td>NaN</td>\n",
       "      <td>...</td>\n",
       "      <td>0.0</td>\n",
       "      <td>0.0</td>\n",
       "      <td>0.0</td>\n",
       "      <td>0.0</td>\n",
       "      <td>0.0</td>\n",
       "      <td>0.0</td>\n",
       "      <td>0.0</td>\n",
       "      <td>0.0</td>\n",
       "      <td>0.4754</td>\n",
       "      <td>Train</td>\n",
       "    </tr>\n",
       "    <tr>\n",
       "      <th>2</th>\n",
       "      <td>1327</td>\n",
       "      <td>2015-05-26 08:44:10</td>\n",
       "      <td>0</td>\n",
       "      <td>NaT</td>\n",
       "      <td>14.355</td>\n",
       "      <td>520314.6</td>\n",
       "      <td>161.6</td>\n",
       "      <td>45.0</td>\n",
       "      <td>38.86</td>\n",
       "      <td>154.5125</td>\n",
       "      <td>...</td>\n",
       "      <td>0.0</td>\n",
       "      <td>0.0</td>\n",
       "      <td>0.0</td>\n",
       "      <td>0.0</td>\n",
       "      <td>0.0</td>\n",
       "      <td>0.0</td>\n",
       "      <td>0.0</td>\n",
       "      <td>0.0</td>\n",
       "      <td>0.4754</td>\n",
       "      <td>Train</td>\n",
       "    </tr>\n",
       "    <tr>\n",
       "      <th>3</th>\n",
       "      <td>1327</td>\n",
       "      <td>2015-05-28 09:45:18</td>\n",
       "      <td>0</td>\n",
       "      <td>NaT</td>\n",
       "      <td>NaN</td>\n",
       "      <td>NaN</td>\n",
       "      <td>NaN</td>\n",
       "      <td>NaN</td>\n",
       "      <td>NaN</td>\n",
       "      <td>NaN</td>\n",
       "      <td>...</td>\n",
       "      <td>0.0</td>\n",
       "      <td>0.0</td>\n",
       "      <td>0.0</td>\n",
       "      <td>0.0</td>\n",
       "      <td>0.0</td>\n",
       "      <td>0.0</td>\n",
       "      <td>0.0</td>\n",
       "      <td>0.0</td>\n",
       "      <td>0.4754</td>\n",
       "      <td>Train</td>\n",
       "    </tr>\n",
       "    <tr>\n",
       "      <th>4</th>\n",
       "      <td>1327</td>\n",
       "      <td>2015-06-03 15:24:27</td>\n",
       "      <td>0</td>\n",
       "      <td>NaT</td>\n",
       "      <td>NaN</td>\n",
       "      <td>NaN</td>\n",
       "      <td>NaN</td>\n",
       "      <td>NaN</td>\n",
       "      <td>NaN</td>\n",
       "      <td>NaN</td>\n",
       "      <td>...</td>\n",
       "      <td>0.0</td>\n",
       "      <td>0.0</td>\n",
       "      <td>0.0</td>\n",
       "      <td>0.0</td>\n",
       "      <td>0.0</td>\n",
       "      <td>0.0</td>\n",
       "      <td>0.0</td>\n",
       "      <td>0.0</td>\n",
       "      <td>0.4754</td>\n",
       "      <td>Train</td>\n",
       "    </tr>\n",
       "  </tbody>\n",
       "</table>\n",
       "<p>5 rows × 160 columns</p>\n",
       "</div>"
      ],
      "text/plain": [
       "   EquipmentID      EventTimeStamp  InFailureWindow NextDerateTimestamp  \\\n",
       "0         1327 2015-05-19 12:02:55                0                 NaT   \n",
       "1         1327 2015-05-26 08:11:45                0                 NaT   \n",
       "2         1327 2015-05-26 08:44:10                0                 NaT   \n",
       "3         1327 2015-05-28 09:45:18                0                 NaT   \n",
       "4         1327 2015-06-03 15:24:27                0                 NaT   \n",
       "\n",
       "   BarometricPressure  DistanceLtd  EngineCoolantTemperature  EngineLoad  \\\n",
       "0              14.355     520309.6                     185.0         0.0   \n",
       "1                 NaN          NaN                       NaN         NaN   \n",
       "2              14.355     520314.6                     161.6        45.0   \n",
       "3                 NaN          NaN                       NaN         NaN   \n",
       "4                 NaN          NaN                       NaN         NaN   \n",
       "\n",
       "   EngineOilPressure  EngineOilTemperature  ...  Summ_7854  Summ_81  Summ_84  \\\n",
       "0              31.90              203.8438  ...        0.0      0.0      0.0   \n",
       "1                NaN                   NaN  ...        0.0      0.0      0.0   \n",
       "2              38.86              154.5125  ...        0.0      0.0      0.0   \n",
       "3                NaN                   NaN  ...        0.0      0.0      0.0   \n",
       "4                NaN                   NaN  ...        0.0      0.0      0.0   \n",
       "\n",
       "   Summ_862  Summ_91  Summ_95  Summ_96  Summ_97  AssignGroup  ModelGroup  \n",
       "0       0.0      0.0      0.0      0.0      0.0       0.4754       Train  \n",
       "1       0.0      0.0      0.0      0.0      0.0       0.4754       Train  \n",
       "2       0.0      0.0      0.0      0.0      0.0       0.4754       Train  \n",
       "3       0.0      0.0      0.0      0.0      0.0       0.4754       Train  \n",
       "4       0.0      0.0      0.0      0.0      0.0       0.4754       Train  \n",
       "\n",
       "[5 rows x 160 columns]"
      ]
     },
     "execution_count": 5,
     "metadata": {},
     "output_type": "execute_result"
    }
   ],
   "source": [
    "print(equip_ids.groupby(['ModelGroup'])['AssignGroup'].count())\n",
    "print(faults_sgd_full.groupby(['ModelGroup'])['InFailureWindow'].sum())\n",
    "faults_sgd_full.head()"
   ]
  },
  {
   "cell_type": "code",
   "execution_count": 6,
   "id": "e283e669",
   "metadata": {},
   "outputs": [
    {
     "data": {
      "text/plain": [
       "[None,\n",
       " None,\n",
       " None,\n",
       " None,\n",
       " None,\n",
       " None,\n",
       " None,\n",
       " None,\n",
       " None,\n",
       " None,\n",
       " None,\n",
       " None,\n",
       " None,\n",
       " None,\n",
       " None,\n",
       " None,\n",
       " None,\n",
       " None,\n",
       " None,\n",
       " None,\n",
       " None,\n",
       " None,\n",
       " None,\n",
       " None,\n",
       " None,\n",
       " None,\n",
       " None,\n",
       " None,\n",
       " None,\n",
       " None,\n",
       " None,\n",
       " None,\n",
       " None,\n",
       " None,\n",
       " None,\n",
       " None,\n",
       " None,\n",
       " None,\n",
       " None,\n",
       " None,\n",
       " None,\n",
       " None,\n",
       " None,\n",
       " None,\n",
       " None,\n",
       " None,\n",
       " None,\n",
       " None,\n",
       " None,\n",
       " None,\n",
       " None,\n",
       " None,\n",
       " None,\n",
       " None,\n",
       " None,\n",
       " None,\n",
       " None,\n",
       " None,\n",
       " None,\n",
       " None,\n",
       " None,\n",
       " None,\n",
       " None,\n",
       " None,\n",
       " None,\n",
       " None,\n",
       " None,\n",
       " None,\n",
       " None,\n",
       " None,\n",
       " None,\n",
       " None,\n",
       " None,\n",
       " None,\n",
       " None,\n",
       " None,\n",
       " None,\n",
       " None,\n",
       " None,\n",
       " None,\n",
       " None,\n",
       " None,\n",
       " None,\n",
       " None,\n",
       " None,\n",
       " None,\n",
       " None,\n",
       " None,\n",
       " None,\n",
       " None,\n",
       " None,\n",
       " None,\n",
       " None,\n",
       " None,\n",
       " None,\n",
       " None,\n",
       " None,\n",
       " None,\n",
       " None,\n",
       " None,\n",
       " None,\n",
       " None,\n",
       " None,\n",
       " None,\n",
       " None,\n",
       " None,\n",
       " None,\n",
       " None,\n",
       " None,\n",
       " None,\n",
       " None,\n",
       " None,\n",
       " None,\n",
       " None,\n",
       " None,\n",
       " None,\n",
       " None,\n",
       " None,\n",
       " None,\n",
       " None,\n",
       " None,\n",
       " None,\n",
       " None,\n",
       " None,\n",
       " None,\n",
       " None,\n",
       " None,\n",
       " None,\n",
       " None,\n",
       " None,\n",
       " None,\n",
       " None,\n",
       " None,\n",
       " None,\n",
       " None,\n",
       " None,\n",
       " None,\n",
       " None,\n",
       " None,\n",
       " None,\n",
       " None]"
      ]
     },
     "execution_count": 6,
     "metadata": {},
     "output_type": "execute_result"
    }
   ],
   "source": [
    "use_cols = ['ModelGroup','InFailureWindow']\n",
    "[use_cols.append(col) for col in faults_sgd_full.columns if 'Summ_' in col]"
   ]
  },
  {
   "cell_type": "code",
   "execution_count": 7,
   "id": "28f323fe",
   "metadata": {},
   "outputs": [
    {
     "data": {
      "text/html": [
       "<div>\n",
       "<style scoped>\n",
       "    .dataframe tbody tr th:only-of-type {\n",
       "        vertical-align: middle;\n",
       "    }\n",
       "\n",
       "    .dataframe tbody tr th {\n",
       "        vertical-align: top;\n",
       "    }\n",
       "\n",
       "    .dataframe thead th {\n",
       "        text-align: right;\n",
       "    }\n",
       "</style>\n",
       "<table border=\"1\" class=\"dataframe\">\n",
       "  <thead>\n",
       "    <tr style=\"text-align: right;\">\n",
       "      <th></th>\n",
       "      <th>ModelGroup</th>\n",
       "      <th>InFailureWindow</th>\n",
       "      <th>Summ_100</th>\n",
       "      <th>Summ_101</th>\n",
       "      <th>Summ_102</th>\n",
       "      <th>Summ_103</th>\n",
       "      <th>Summ_105</th>\n",
       "      <th>Summ_1072</th>\n",
       "      <th>Summ_1075</th>\n",
       "      <th>Summ_108</th>\n",
       "      <th>...</th>\n",
       "      <th>Summ_723</th>\n",
       "      <th>Summ_7827</th>\n",
       "      <th>Summ_7854</th>\n",
       "      <th>Summ_81</th>\n",
       "      <th>Summ_84</th>\n",
       "      <th>Summ_862</th>\n",
       "      <th>Summ_91</th>\n",
       "      <th>Summ_95</th>\n",
       "      <th>Summ_96</th>\n",
       "      <th>Summ_97</th>\n",
       "    </tr>\n",
       "  </thead>\n",
       "  <tbody>\n",
       "    <tr>\n",
       "      <th>0</th>\n",
       "      <td>Train</td>\n",
       "      <td>0</td>\n",
       "      <td>0.0</td>\n",
       "      <td>0.0</td>\n",
       "      <td>0.0</td>\n",
       "      <td>0.0</td>\n",
       "      <td>0.0</td>\n",
       "      <td>0.0</td>\n",
       "      <td>0.0</td>\n",
       "      <td>0.0</td>\n",
       "      <td>...</td>\n",
       "      <td>0.0</td>\n",
       "      <td>0.0</td>\n",
       "      <td>0.0</td>\n",
       "      <td>0.0</td>\n",
       "      <td>0.0</td>\n",
       "      <td>0.0</td>\n",
       "      <td>0.0</td>\n",
       "      <td>0.0</td>\n",
       "      <td>0.0</td>\n",
       "      <td>0.0</td>\n",
       "    </tr>\n",
       "    <tr>\n",
       "      <th>1</th>\n",
       "      <td>Train</td>\n",
       "      <td>0</td>\n",
       "      <td>0.0</td>\n",
       "      <td>0.0</td>\n",
       "      <td>0.0</td>\n",
       "      <td>0.0</td>\n",
       "      <td>0.0</td>\n",
       "      <td>0.0</td>\n",
       "      <td>0.0</td>\n",
       "      <td>0.0</td>\n",
       "      <td>...</td>\n",
       "      <td>0.0</td>\n",
       "      <td>0.0</td>\n",
       "      <td>0.0</td>\n",
       "      <td>0.0</td>\n",
       "      <td>0.0</td>\n",
       "      <td>0.0</td>\n",
       "      <td>0.0</td>\n",
       "      <td>0.0</td>\n",
       "      <td>0.0</td>\n",
       "      <td>0.0</td>\n",
       "    </tr>\n",
       "    <tr>\n",
       "      <th>2</th>\n",
       "      <td>Train</td>\n",
       "      <td>0</td>\n",
       "      <td>0.0</td>\n",
       "      <td>0.0</td>\n",
       "      <td>0.0</td>\n",
       "      <td>0.0</td>\n",
       "      <td>0.0</td>\n",
       "      <td>0.0</td>\n",
       "      <td>0.0</td>\n",
       "      <td>0.0</td>\n",
       "      <td>...</td>\n",
       "      <td>0.0</td>\n",
       "      <td>0.0</td>\n",
       "      <td>0.0</td>\n",
       "      <td>0.0</td>\n",
       "      <td>0.0</td>\n",
       "      <td>0.0</td>\n",
       "      <td>0.0</td>\n",
       "      <td>0.0</td>\n",
       "      <td>0.0</td>\n",
       "      <td>0.0</td>\n",
       "    </tr>\n",
       "    <tr>\n",
       "      <th>3</th>\n",
       "      <td>Train</td>\n",
       "      <td>0</td>\n",
       "      <td>0.0</td>\n",
       "      <td>0.0</td>\n",
       "      <td>0.0</td>\n",
       "      <td>0.0</td>\n",
       "      <td>0.0</td>\n",
       "      <td>0.0</td>\n",
       "      <td>0.0</td>\n",
       "      <td>0.0</td>\n",
       "      <td>...</td>\n",
       "      <td>0.0</td>\n",
       "      <td>0.0</td>\n",
       "      <td>0.0</td>\n",
       "      <td>0.0</td>\n",
       "      <td>0.0</td>\n",
       "      <td>0.0</td>\n",
       "      <td>0.0</td>\n",
       "      <td>0.0</td>\n",
       "      <td>0.0</td>\n",
       "      <td>0.0</td>\n",
       "    </tr>\n",
       "    <tr>\n",
       "      <th>4</th>\n",
       "      <td>Train</td>\n",
       "      <td>0</td>\n",
       "      <td>0.0</td>\n",
       "      <td>0.0</td>\n",
       "      <td>0.0</td>\n",
       "      <td>0.0</td>\n",
       "      <td>0.0</td>\n",
       "      <td>0.0</td>\n",
       "      <td>0.0</td>\n",
       "      <td>0.0</td>\n",
       "      <td>...</td>\n",
       "      <td>0.0</td>\n",
       "      <td>0.0</td>\n",
       "      <td>0.0</td>\n",
       "      <td>0.0</td>\n",
       "      <td>0.0</td>\n",
       "      <td>0.0</td>\n",
       "      <td>0.0</td>\n",
       "      <td>0.0</td>\n",
       "      <td>0.0</td>\n",
       "      <td>0.0</td>\n",
       "    </tr>\n",
       "  </tbody>\n",
       "</table>\n",
       "<p>5 rows × 143 columns</p>\n",
       "</div>"
      ],
      "text/plain": [
       "  ModelGroup  InFailureWindow  Summ_100  Summ_101  Summ_102  Summ_103  \\\n",
       "0      Train                0       0.0       0.0       0.0       0.0   \n",
       "1      Train                0       0.0       0.0       0.0       0.0   \n",
       "2      Train                0       0.0       0.0       0.0       0.0   \n",
       "3      Train                0       0.0       0.0       0.0       0.0   \n",
       "4      Train                0       0.0       0.0       0.0       0.0   \n",
       "\n",
       "   Summ_105  Summ_1072  Summ_1075  Summ_108  ...  Summ_723  Summ_7827  \\\n",
       "0       0.0        0.0        0.0       0.0  ...       0.0        0.0   \n",
       "1       0.0        0.0        0.0       0.0  ...       0.0        0.0   \n",
       "2       0.0        0.0        0.0       0.0  ...       0.0        0.0   \n",
       "3       0.0        0.0        0.0       0.0  ...       0.0        0.0   \n",
       "4       0.0        0.0        0.0       0.0  ...       0.0        0.0   \n",
       "\n",
       "   Summ_7854  Summ_81  Summ_84  Summ_862  Summ_91  Summ_95  Summ_96  Summ_97  \n",
       "0        0.0      0.0      0.0       0.0      0.0      0.0      0.0      0.0  \n",
       "1        0.0      0.0      0.0       0.0      0.0      0.0      0.0      0.0  \n",
       "2        0.0      0.0      0.0       0.0      0.0      0.0      0.0      0.0  \n",
       "3        0.0      0.0      0.0       0.0      0.0      0.0      0.0      0.0  \n",
       "4        0.0      0.0      0.0       0.0      0.0      0.0      0.0      0.0  \n",
       "\n",
       "[5 rows x 143 columns]"
      ]
     },
     "execution_count": 7,
     "metadata": {},
     "output_type": "execute_result"
    }
   ],
   "source": [
    "faults_sgd= faults_sgd_full[use_cols]\n",
    "faults_sgd.head()"
   ]
  },
  {
   "cell_type": "code",
   "execution_count": 8,
   "id": "55fff83e",
   "metadata": {},
   "outputs": [
    {
     "name": "stdout",
     "output_type": "stream",
     "text": [
      "<class 'pandas.core.frame.DataFrame'>\n",
      "Int64Index: 201857 entries, 0 to 201856\n",
      "Data columns (total 143 columns):\n",
      " #    Column           Dtype  \n",
      "---   ------           -----  \n",
      " 0    ModelGroup       object \n",
      " 1    InFailureWindow  int64  \n",
      " 2    Summ_100         float64\n",
      " 3    Summ_101         float64\n",
      " 4    Summ_102         float64\n",
      " 5    Summ_103         float64\n",
      " 6    Summ_105         float64\n",
      " 7    Summ_1072        float64\n",
      " 8    Summ_1075        float64\n",
      " 9    Summ_108         float64\n",
      " 10   Summ_110         float64\n",
      " 11   Summ_111         float64\n",
      " 12   Summ_1127        float64\n",
      " 13   Summ_1172        float64\n",
      " 14   Summ_1176        float64\n",
      " 15   Summ_1209        float64\n",
      " 16   Summ_1239        float64\n",
      " 17   Summ_125         float64\n",
      " 18   Summ_1322        float64\n",
      " 19   Summ_1323        float64\n",
      " 20   Summ_1325        float64\n",
      " 21   Summ_1326        float64\n",
      " 22   Summ_1328        float64\n",
      " 23   Summ_1347        float64\n",
      " 24   Summ_1569        float64\n",
      " 25   Summ_157         float64\n",
      " 26   Summ_168         float64\n",
      " 27   Summ_171         float64\n",
      " 28   Summ_175         float64\n",
      " 29   Summ_1761        float64\n",
      " 30   Summ_188         float64\n",
      " 31   Summ_190         float64\n",
      " 32   Summ_191         float64\n",
      " 33   Summ_196608      float64\n",
      " 34   Summ_237         float64\n",
      " 35   Summ_2623        float64\n",
      " 36   Summ_27          float64\n",
      " 37   Summ_2791        float64\n",
      " 38   Summ_3031        float64\n",
      " 39   Summ_3058        float64\n",
      " 40   Summ_3060        float64\n",
      " 41   Summ_3216        float64\n",
      " 42   Summ_3218        float64\n",
      " 43   Summ_3222        float64\n",
      " 44   Summ_3226        float64\n",
      " 45   Summ_3228        float64\n",
      " 46   Summ_3242        float64\n",
      " 47   Summ_3246        float64\n",
      " 48   Summ_3251        float64\n",
      " 49   Summ_3360        float64\n",
      " 50   Summ_3361        float64\n",
      " 51   Summ_3362        float64\n",
      " 52   Summ_3363        float64\n",
      " 53   Summ_3364        float64\n",
      " 54   Summ_3464        float64\n",
      " 55   Summ_3480        float64\n",
      " 56   Summ_3482        float64\n",
      " 57   Summ_3490        float64\n",
      " 58   Summ_3509        float64\n",
      " 59   Summ_3510        float64\n",
      " 60   Summ_3511        float64\n",
      " 61   Summ_3512        float64\n",
      " 62   Summ_3513        float64\n",
      " 63   Summ_3515        float64\n",
      " 64   Summ_3556        float64\n",
      " 65   Summ_3597        float64\n",
      " 66   Summ_3610        float64\n",
      " 67   Summ_3703        float64\n",
      " 68   Summ_3720        float64\n",
      " 69   Summ_3936        float64\n",
      " 70   Summ_4094        float64\n",
      " 71   Summ_4096        float64\n",
      " 72   Summ_411         float64\n",
      " 73   Summ_412         float64\n",
      " 74   Summ_4331        float64\n",
      " 75   Summ_4334        float64\n",
      " 76   Summ_4339        float64\n",
      " 77   Summ_4340        float64\n",
      " 78   Summ_4342        float64\n",
      " 79   Summ_4344        float64\n",
      " 80   Summ_4346        float64\n",
      " 81   Summ_4360        float64\n",
      " 82   Summ_4363        float64\n",
      " 83   Summ_4364        float64\n",
      " 84   Summ_4375        float64\n",
      " 85   Summ_4376        float64\n",
      " 86   Summ_444         float64\n",
      " 87   Summ_4607        float64\n",
      " 88   Summ_4765        float64\n",
      " 89   Summ_4792        float64\n",
      " 90   Summ_4794        float64\n",
      " 91   Summ_4795        float64\n",
      " 92   Summ_4796        float64\n",
      " 93   Summ_5019        float64\n",
      " 94   Summ_5024        float64\n",
      " 95   Summ_5031        float64\n",
      " 96   Summ_51          float64\n",
      " 97   Summ_520953      float64\n",
      " 98   Summ_524287      float64\n",
      " 99   Summ_5298        float64\n",
      " 100  Summ_5319        float64\n",
      " 101  Summ_5394        float64\n",
      " 102  Summ_5397        float64\n",
      " 103  Summ_5491        float64\n",
      " 104  Summ_558         float64\n",
      " 105  Summ_5585        float64\n",
      " 106  Summ_563         float64\n",
      " 107  Summ_5742        float64\n",
      " 108  Summ_5743        float64\n",
      " 109  Summ_5746        float64\n",
      " 110  Summ_5835        float64\n",
      " 111  Summ_5848        float64\n",
      " 112  Summ_5851        float64\n",
      " 113  Summ_5853        float64\n",
      " 114  Summ_5862        float64\n",
      " 115  Summ_612         float64\n",
      " 116  Summ_629         float64\n",
      " 117  Summ_630         float64\n",
      " 118  Summ_633         float64\n",
      " 119  Summ_639         float64\n",
      " 120  Summ_641         float64\n",
      " 121  Summ_647         float64\n",
      " 122  Summ_651         float64\n",
      " 123  Summ_652         float64\n",
      " 124  Summ_653         float64\n",
      " 125  Summ_654         float64\n",
      " 126  Summ_655         float64\n",
      " 127  Summ_65535       float64\n",
      " 128  Summ_656         float64\n",
      " 129  Summ_6713        float64\n",
      " 130  Summ_6773        float64\n",
      " 131  Summ_6780        float64\n",
      " 132  Summ_6802        float64\n",
      " 133  Summ_723         float64\n",
      " 134  Summ_7827        float64\n",
      " 135  Summ_7854        float64\n",
      " 136  Summ_81          float64\n",
      " 137  Summ_84          float64\n",
      " 138  Summ_862         float64\n",
      " 139  Summ_91          float64\n",
      " 140  Summ_95          float64\n",
      " 141  Summ_96          float64\n",
      " 142  Summ_97          float64\n",
      "dtypes: float64(141), int64(1), object(1)\n",
      "memory usage: 221.8+ MB\n"
     ]
    }
   ],
   "source": [
    "faults_sgd.info(verbose=True)"
   ]
  },
  {
   "cell_type": "code",
   "execution_count": 9,
   "id": "744b472e",
   "metadata": {},
   "outputs": [],
   "source": [
    "X = faults_sgd.drop(columns= 'InFailureWindow')\n",
    "y = faults_sgd[['ModelGroup','InFailureWindow']]"
   ]
  },
  {
   "cell_type": "code",
   "execution_count": 10,
   "id": "e33c5d07",
   "metadata": {},
   "outputs": [],
   "source": [
    "X_train = X[X['ModelGroup']=='Train'].drop(columns = 'ModelGroup')"
   ]
  },
  {
   "cell_type": "code",
   "execution_count": 11,
   "id": "f961de10",
   "metadata": {},
   "outputs": [],
   "source": [
    "X_test = X[X['ModelGroup']=='Test'].drop(columns = 'ModelGroup')"
   ]
  },
  {
   "cell_type": "code",
   "execution_count": 12,
   "id": "3ff9abda",
   "metadata": {},
   "outputs": [],
   "source": [
    "y_train = y[y['ModelGroup']=='Train'].drop(columns = 'ModelGroup')"
   ]
  },
  {
   "cell_type": "code",
   "execution_count": 13,
   "id": "a294453c",
   "metadata": {},
   "outputs": [],
   "source": [
    "y_test = y[y['ModelGroup']=='Test'].drop(columns = 'ModelGroup')"
   ]
  },
  {
   "cell_type": "code",
   "execution_count": 14,
   "id": "98c6d205",
   "metadata": {},
   "outputs": [],
   "source": [
    "#X_train, X_test, y_train, y_test = train_test_split(X, y, stratify = y, random_state = 217)"
   ]
  },
  {
   "cell_type": "markdown",
   "id": "cea8cffb",
   "metadata": {},
   "source": [
    "## No balancing"
   ]
  },
  {
   "cell_type": "code",
   "execution_count": 15,
   "id": "e6cea41a",
   "metadata": {},
   "outputs": [],
   "source": [
    "sgd = Pipeline(steps = [\n",
    "    ('scaler', StandardScaler()),\n",
    "    ('sgdclass', SGDClassifier(random_state = 217, loss='log'))\n",
    "])"
   ]
  },
  {
   "cell_type": "code",
   "execution_count": 16,
   "id": "68c44274",
   "metadata": {},
   "outputs": [
    {
     "name": "stderr",
     "output_type": "stream",
     "text": [
      "C:\\Users\\maggi\\Anaconda3\\lib\\site-packages\\sklearn\\utils\\validation.py:63: DataConversionWarning: A column-vector y was passed when a 1d array was expected. Please change the shape of y to (n_samples, ), for example using ravel().\n",
      "  return f(*args, **kwargs)\n"
     ]
    },
    {
     "data": {
      "text/plain": [
       "Pipeline(steps=[('scaler', StandardScaler()),\n",
       "                ('sgdclass', SGDClassifier(loss='log', random_state=217))])"
      ]
     },
     "execution_count": 16,
     "metadata": {},
     "output_type": "execute_result"
    }
   ],
   "source": [
    "sgd.fit(X_train, y_train)"
   ]
  },
  {
   "cell_type": "code",
   "execution_count": 17,
   "id": "100237e4",
   "metadata": {},
   "outputs": [
    {
     "data": {
      "text/plain": [
       "0.9876792437715293"
      ]
     },
     "execution_count": 17,
     "metadata": {},
     "output_type": "execute_result"
    }
   ],
   "source": [
    "y_pred = sgd.predict(X_test)\n",
    "accuracy_score(y_test, y_pred)"
   ]
  },
  {
   "cell_type": "code",
   "execution_count": null,
   "id": "b26c3b43",
   "metadata": {},
   "outputs": [],
   "source": [
    "confusion_matrix(y_test, y_pred)"
   ]
  },
  {
   "cell_type": "code",
   "execution_count": null,
   "id": "c0ce0232",
   "metadata": {},
   "outputs": [],
   "source": [
    "print(classification_report(y_test, y_pred))"
   ]
  },
  {
   "cell_type": "markdown",
   "id": "9f0b5f1f",
   "metadata": {},
   "source": [
    "## Automatic weighting"
   ]
  },
  {
   "cell_type": "code",
   "execution_count": null,
   "id": "5913f79d",
   "metadata": {},
   "outputs": [],
   "source": [
    "sgd_bal = Pipeline(steps = [\n",
    "    ('scaler', StandardScaler()),\n",
    "    ('sgdclass', SGDClassifier(random_state = 217, loss='log', class_weight = 'balanced'))\n",
    "])\n",
    "sgd_bal.fit(X_train, y_train)"
   ]
  },
  {
   "cell_type": "code",
   "execution_count": null,
   "id": "338981af",
   "metadata": {},
   "outputs": [],
   "source": [
    "y_pred = sgd_bal.predict(X_test)\n",
    "accuracy_score(y_test, y_pred)"
   ]
  },
  {
   "cell_type": "code",
   "execution_count": null,
   "id": "eb6c71c5",
   "metadata": {},
   "outputs": [],
   "source": [
    "confusion_matrix(y_test, y_pred)"
   ]
  },
  {
   "cell_type": "code",
   "execution_count": null,
   "id": "32f52269",
   "metadata": {},
   "outputs": [],
   "source": [
    "print(classification_report(y_test, y_pred))"
   ]
  },
  {
   "cell_type": "markdown",
   "id": "385b5c7a",
   "metadata": {},
   "source": [
    "## Undersampling"
   ]
  },
  {
   "cell_type": "code",
   "execution_count": null,
   "id": "9620b611",
   "metadata": {},
   "outputs": [],
   "source": [
    "undersampler = RandomUnderSampler(random_state = 217)"
   ]
  },
  {
   "cell_type": "code",
   "execution_count": null,
   "id": "7a1f874c",
   "metadata": {},
   "outputs": [],
   "source": [
    "X_resampled, y_resampled = undersampler.fit_resample(X_train, y_train)"
   ]
  },
  {
   "cell_type": "code",
   "execution_count": null,
   "id": "9cc09351",
   "metadata": {},
   "outputs": [],
   "source": [
    "y_resampled.value_counts()"
   ]
  },
  {
   "cell_type": "code",
   "execution_count": null,
   "id": "a509463f",
   "metadata": {},
   "outputs": [],
   "source": [
    "sgd_under = Pipeline(steps = [\n",
    "    ('scaler', StandardScaler()),\n",
    "    ('sgdclass', SGDClassifier(random_state = 217, loss='log'))\n",
    "])\n",
    "sgd_under.fit(X_resampled, y_resampled)"
   ]
  },
  {
   "cell_type": "code",
   "execution_count": null,
   "id": "3a4e5caa",
   "metadata": {},
   "outputs": [],
   "source": [
    "y_pred = sgd_under.predict(X_test)\n",
    "accuracy_score(y_test, y_pred)"
   ]
  },
  {
   "cell_type": "code",
   "execution_count": null,
   "id": "dd049188",
   "metadata": {},
   "outputs": [],
   "source": [
    "confusion_matrix(y_test, y_pred)"
   ]
  },
  {
   "cell_type": "code",
   "execution_count": null,
   "id": "28b4e867",
   "metadata": {},
   "outputs": [],
   "source": [
    "print(classification_report(y_test, y_pred))"
   ]
  },
  {
   "cell_type": "markdown",
   "id": "e98ca6d0",
   "metadata": {},
   "source": [
    "## Oversampling"
   ]
  },
  {
   "cell_type": "code",
   "execution_count": null,
   "id": "feec7465",
   "metadata": {},
   "outputs": [],
   "source": [
    "oversampler = RandomOverSampler(random_state = 217)"
   ]
  },
  {
   "cell_type": "code",
   "execution_count": null,
   "id": "43038e83",
   "metadata": {},
   "outputs": [],
   "source": [
    "X_resampled, y_resampled = oversampler.fit_resample(X_train, y_train)"
   ]
  },
  {
   "cell_type": "code",
   "execution_count": null,
   "id": "51b83a0f",
   "metadata": {},
   "outputs": [],
   "source": [
    "y_resampled.value_counts()"
   ]
  },
  {
   "cell_type": "code",
   "execution_count": null,
   "id": "5a85cbe5",
   "metadata": {},
   "outputs": [],
   "source": [
    "sgd_over = Pipeline(steps = [\n",
    "    ('scaler', StandardScaler()),\n",
    "    ('sgdclass', SGDClassifier(random_state = 217, loss='log'))\n",
    "])\n",
    "sgd_over.fit(X_resampled, y_resampled)"
   ]
  },
  {
   "cell_type": "code",
   "execution_count": null,
   "id": "b8fccdc6",
   "metadata": {},
   "outputs": [],
   "source": [
    "y_pred = sgd_over.predict(X_test)\n",
    "accuracy_score(y_test, y_pred)"
   ]
  },
  {
   "cell_type": "code",
   "execution_count": null,
   "id": "1bce0679",
   "metadata": {},
   "outputs": [],
   "source": [
    "confusion_matrix(y_test, y_pred)"
   ]
  },
  {
   "cell_type": "code",
   "execution_count": null,
   "id": "41957514",
   "metadata": {},
   "outputs": [],
   "source": [
    "print(classification_report(y_test, y_pred))"
   ]
  },
  {
   "cell_type": "markdown",
   "id": "141ab1b7",
   "metadata": {},
   "source": [
    "## Combined"
   ]
  },
  {
   "cell_type": "code",
   "execution_count": null,
   "id": "8462f262",
   "metadata": {},
   "outputs": [],
   "source": [
    "undersampler = RandomOverSampler(random_state = 217, sampling_strategy = 1/3)"
   ]
  },
  {
   "cell_type": "code",
   "execution_count": null,
   "id": "6d7ac6f5",
   "metadata": {},
   "outputs": [],
   "source": [
    "X_resampled, y_resampled = undersampler.fit_resample(X_train, y_train)"
   ]
  },
  {
   "cell_type": "code",
   "execution_count": null,
   "id": "bca06004",
   "metadata": {},
   "outputs": [],
   "source": [
    "y_resampled.value_counts()"
   ]
  },
  {
   "cell_type": "code",
   "execution_count": null,
   "id": "ccfb4846",
   "metadata": {},
   "outputs": [],
   "source": [
    "oversampler = RandomOverSampler(random_state = 217)"
   ]
  },
  {
   "cell_type": "code",
   "execution_count": null,
   "id": "4b58533e",
   "metadata": {},
   "outputs": [],
   "source": [
    "X_resampled, y_resampled = oversampler.fit_resample(X_resampled, y_resampled)"
   ]
  },
  {
   "cell_type": "code",
   "execution_count": null,
   "id": "bdc041b4",
   "metadata": {},
   "outputs": [],
   "source": [
    "y_resampled.value_counts()"
   ]
  },
  {
   "cell_type": "code",
   "execution_count": null,
   "id": "76590469",
   "metadata": {},
   "outputs": [],
   "source": [
    "sgd_comb = Pipeline(steps = [\n",
    "    ('scaler', StandardScaler()),\n",
    "    ('sgdclass', SGDClassifier(random_state = 217, loss='log'))\n",
    "])\n",
    "sgd_comb.fit(X_resampled, y_resampled)"
   ]
  },
  {
   "cell_type": "code",
   "execution_count": null,
   "id": "e06e7a30",
   "metadata": {},
   "outputs": [],
   "source": [
    "y_pred = sgd_comb.predict(X_test)\n",
    "accuracy_score(y_test, y_pred)"
   ]
  },
  {
   "cell_type": "code",
   "execution_count": null,
   "id": "50179462",
   "metadata": {},
   "outputs": [],
   "source": [
    "confusion_matrix(y_test, y_pred)"
   ]
  },
  {
   "cell_type": "code",
   "execution_count": null,
   "id": "4608efcc",
   "metadata": {},
   "outputs": [],
   "source": [
    "print(classification_report(y_test, y_pred))"
   ]
  },
  {
   "cell_type": "markdown",
   "id": "071104ce",
   "metadata": {},
   "source": [
    "## SMOTE"
   ]
  },
  {
   "cell_type": "code",
   "execution_count": 18,
   "id": "7c849b72",
   "metadata": {},
   "outputs": [],
   "source": [
    "oversampler = SMOTE(k_neighbors=5, n_jobs =-1, random_state = 217)"
   ]
  },
  {
   "cell_type": "code",
   "execution_count": 19,
   "id": "843a3d66",
   "metadata": {},
   "outputs": [],
   "source": [
    "X_smote, y_smote = oversampler.fit_resample(X_train, y_train)"
   ]
  },
  {
   "cell_type": "code",
   "execution_count": 20,
   "id": "d56eab64",
   "metadata": {},
   "outputs": [
    {
     "data": {
      "text/plain": [
       "InFailureWindow\n",
       "0                  138641\n",
       "1                  138641\n",
       "dtype: int64"
      ]
     },
     "execution_count": 20,
     "metadata": {},
     "output_type": "execute_result"
    }
   ],
   "source": [
    "y_smote.value_counts()"
   ]
  },
  {
   "cell_type": "code",
   "execution_count": 21,
   "id": "ef363333",
   "metadata": {},
   "outputs": [
    {
     "data": {
      "text/plain": [
       "Pipeline(steps=[('scaler', StandardScaler()),\n",
       "                ('sgdclass', SGDClassifier(loss='log', random_state=217))])"
      ]
     },
     "execution_count": 21,
     "metadata": {},
     "output_type": "execute_result"
    }
   ],
   "source": [
    "sgd_smote = Pipeline(steps = [\n",
    "    ('scaler', StandardScaler()),\n",
    "    ('sgdclass', SGDClassifier(random_state = 217, loss='log'))\n",
    "     ])\n",
    "sgd_smote.fit(X_smote, y_smote.values.ravel())"
   ]
  },
  {
   "cell_type": "code",
   "execution_count": 22,
   "id": "47c541a8",
   "metadata": {},
   "outputs": [
    {
     "data": {
      "text/plain": [
       "0.9385564367539854"
      ]
     },
     "execution_count": 22,
     "metadata": {},
     "output_type": "execute_result"
    }
   ],
   "source": [
    "y_pred = sgd_smote.predict(X_test)\n",
    "accuracy_score(y_test, y_pred)"
   ]
  },
  {
   "cell_type": "code",
   "execution_count": 23,
   "id": "39e63d53",
   "metadata": {},
   "outputs": [
    {
     "data": {
      "text/plain": [
       "array([[58199,  3530],\n",
       "       [  305,   381]], dtype=int64)"
      ]
     },
     "execution_count": 23,
     "metadata": {},
     "output_type": "execute_result"
    }
   ],
   "source": [
    "confusion_matrix(y_test, y_pred)"
   ]
  },
  {
   "cell_type": "code",
   "execution_count": 24,
   "id": "7c31648d",
   "metadata": {},
   "outputs": [
    {
     "name": "stdout",
     "output_type": "stream",
     "text": [
      "              precision    recall  f1-score   support\n",
      "\n",
      "           0       0.99      0.94      0.97     61729\n",
      "           1       0.10      0.56      0.17       686\n",
      "\n",
      "    accuracy                           0.94     62415\n",
      "   macro avg       0.55      0.75      0.57     62415\n",
      "weighted avg       0.98      0.94      0.96     62415\n",
      "\n"
     ]
    }
   ],
   "source": [
    "print(classification_report(y_test, y_pred))"
   ]
  },
  {
   "cell_type": "code",
   "execution_count": 25,
   "id": "08d6d54e",
   "metadata": {},
   "outputs": [
    {
     "name": "stdout",
     "output_type": "stream",
     "text": [
      "accuracy: 0.9385564367539854\n",
      "sensitivity: 0.5553935860058309\n",
      "precision: 0.09741754027103043\n",
      "F1 Score: 0.16576027844246247\n"
     ]
    }
   ],
   "source": [
    "# Percent of all cases classified correctly\n",
    "print('accuracy:', accuracy_score(y_test, y_pred))\n",
    "\n",
    "# Proportion of 1s classified correctly as 1s\n",
    "print('sensitivity:', recall_score(y_test, y_pred))\n",
    "\n",
    "# Proportion of predicted 1s that are actually 1s\n",
    "print('precision:', precision_score(y_test, y_pred))\n",
    "\n",
    "# Harmonic mean of precision and recall\n",
    "print('F1 Score:', f1_score(y_test, y_pred))"
   ]
  },
  {
   "cell_type": "code",
   "execution_count": 26,
   "id": "35acfc7d",
   "metadata": {},
   "outputs": [],
   "source": [
    "y_pred_prob = sgd_smote.predict_proba(X_test)[:,1]"
   ]
  },
  {
   "cell_type": "code",
   "execution_count": 27,
   "id": "f9b99a9f",
   "metadata": {},
   "outputs": [
    {
     "data": {
      "image/png": "[encoded data removed]",
      "text/plain": [
       "<Figure size 720x576 with 1 Axes>"
      ]
     },
     "metadata": {
      "needs_background": "light"
     },
     "output_type": "display_data"
    }
   ],
   "source": [
    "fp_rate, tp_rate, thresholds = metrics.roc_curve(y_test, y_pred_prob)\n",
    "\n",
    "plt.figure(figsize = (10,8))\n",
    "\n",
    "plt.plot(fp_rate, tp_rate)\n",
    "plt.xlim([0.0, 1.0])\n",
    "plt.ylim([0.0, 1.0])\n",
    "plt.title('ROC curve for SGD classifier')\n",
    "plt.xlabel('False Positive Rate (1 - Specificity)')\n",
    "plt.ylabel('True Positive Rate (Sensitivity)')\n",
    "plt.grid(True)\n",
    "plt.plot([0,1], [0,1]);"
   ]
  },
  {
   "cell_type": "code",
   "execution_count": 28,
   "id": "caeae444",
   "metadata": {},
   "outputs": [
    {
     "data": {
      "text/plain": [
       "array([0.01110507, 0.64273536, 0.84389438, ..., 0.99999693, 0.36577814,\n",
       "       0.81105632])"
      ]
     },
     "execution_count": 28,
     "metadata": {},
     "output_type": "execute_result"
    }
   ],
   "source": [
    "y_pred_prob"
   ]
  },
  {
   "cell_type": "code",
   "execution_count": 29,
   "id": "64a936eb",
   "metadata": {},
   "outputs": [],
   "source": [
    "y_pred_proba = sgd_smote.predict_proba(X_test)"
   ]
  },
  {
   "cell_type": "code",
   "execution_count": 30,
   "id": "18bc07a2",
   "metadata": {},
   "outputs": [
    {
     "data": {
      "text/plain": [
       "array([[9.88894931e-01, 1.11050689e-02],\n",
       "       [3.57264641e-01, 6.42735359e-01],\n",
       "       [1.56105624e-01, 8.43894376e-01],\n",
       "       ...,\n",
       "       [3.06798096e-06, 9.99996932e-01],\n",
       "       [6.34221855e-01, 3.65778145e-01],\n",
       "       [1.88943682e-01, 8.11056318e-01]])"
      ]
     },
     "execution_count": 30,
     "metadata": {},
     "output_type": "execute_result"
    }
   ],
   "source": [
    "y_pred_proba"
   ]
  },
  {
   "cell_type": "code",
   "execution_count": 31,
   "id": "07cc119d",
   "metadata": {},
   "outputs": [
    {
     "data": {
      "text/html": [
       "<div>\n",
       "<style scoped>\n",
       "    .dataframe tbody tr th:only-of-type {\n",
       "        vertical-align: middle;\n",
       "    }\n",
       "\n",
       "    .dataframe tbody tr th {\n",
       "        vertical-align: top;\n",
       "    }\n",
       "\n",
       "    .dataframe thead th {\n",
       "        text-align: right;\n",
       "    }\n",
       "</style>\n",
       "<table border=\"1\" class=\"dataframe\">\n",
       "  <thead>\n",
       "    <tr style=\"text-align: right;\">\n",
       "      <th></th>\n",
       "      <th>InFailureWindow</th>\n",
       "      <th>predictions</th>\n",
       "      <th>pred_prob</th>\n",
       "      <th>new_prediction</th>\n",
       "    </tr>\n",
       "  </thead>\n",
       "  <tbody>\n",
       "    <tr>\n",
       "      <th>20</th>\n",
       "      <td>0</td>\n",
       "      <td>0</td>\n",
       "      <td>0.011105</td>\n",
       "      <td>0</td>\n",
       "    </tr>\n",
       "    <tr>\n",
       "      <th>21</th>\n",
       "      <td>0</td>\n",
       "      <td>1</td>\n",
       "      <td>0.642735</td>\n",
       "      <td>0</td>\n",
       "    </tr>\n",
       "    <tr>\n",
       "      <th>22</th>\n",
       "      <td>0</td>\n",
       "      <td>1</td>\n",
       "      <td>0.843894</td>\n",
       "      <td>0</td>\n",
       "    </tr>\n",
       "    <tr>\n",
       "      <th>23</th>\n",
       "      <td>0</td>\n",
       "      <td>1</td>\n",
       "      <td>0.642735</td>\n",
       "      <td>0</td>\n",
       "    </tr>\n",
       "    <tr>\n",
       "      <th>24</th>\n",
       "      <td>0</td>\n",
       "      <td>1</td>\n",
       "      <td>0.843894</td>\n",
       "      <td>0</td>\n",
       "    </tr>\n",
       "    <tr>\n",
       "      <th>...</th>\n",
       "      <td>...</td>\n",
       "      <td>...</td>\n",
       "      <td>...</td>\n",
       "      <td>...</td>\n",
       "    </tr>\n",
       "    <tr>\n",
       "      <th>201391</th>\n",
       "      <td>1</td>\n",
       "      <td>1</td>\n",
       "      <td>0.998573</td>\n",
       "      <td>1</td>\n",
       "    </tr>\n",
       "    <tr>\n",
       "      <th>201392</th>\n",
       "      <td>1</td>\n",
       "      <td>1</td>\n",
       "      <td>0.999996</td>\n",
       "      <td>1</td>\n",
       "    </tr>\n",
       "    <tr>\n",
       "      <th>201393</th>\n",
       "      <td>1</td>\n",
       "      <td>1</td>\n",
       "      <td>0.999997</td>\n",
       "      <td>1</td>\n",
       "    </tr>\n",
       "    <tr>\n",
       "      <th>201394</th>\n",
       "      <td>0</td>\n",
       "      <td>0</td>\n",
       "      <td>0.365778</td>\n",
       "      <td>0</td>\n",
       "    </tr>\n",
       "    <tr>\n",
       "      <th>201395</th>\n",
       "      <td>0</td>\n",
       "      <td>1</td>\n",
       "      <td>0.811056</td>\n",
       "      <td>0</td>\n",
       "    </tr>\n",
       "  </tbody>\n",
       "</table>\n",
       "<p>62415 rows × 4 columns</p>\n",
       "</div>"
      ],
      "text/plain": [
       "        InFailureWindow  predictions  pred_prob  new_prediction\n",
       "20                    0            0   0.011105               0\n",
       "21                    0            1   0.642735               0\n",
       "22                    0            1   0.843894               0\n",
       "23                    0            1   0.642735               0\n",
       "24                    0            1   0.843894               0\n",
       "...                 ...          ...        ...             ...\n",
       "201391                1            1   0.998573               1\n",
       "201392                1            1   0.999996               1\n",
       "201393                1            1   0.999997               1\n",
       "201394                0            0   0.365778               0\n",
       "201395                0            1   0.811056               0\n",
       "\n",
       "[62415 rows x 4 columns]"
      ]
     },
     "execution_count": 31,
     "metadata": {},
     "output_type": "execute_result"
    }
   ],
   "source": [
    "y_use_prob = pd.DataFrame(y_test.copy())\n",
    "y_use_prob['predictions'] = y_pred\n",
    "y_use_prob['pred_prob'] = y_pred_prob\n",
    "y_use_prob['new_prediction'] = np.where(y_use_prob['pred_prob']>.97,1,0)\n",
    "y_use_prob"
   ]
  },
  {
   "cell_type": "code",
   "execution_count": 32,
   "id": "0ae3bfa9",
   "metadata": {},
   "outputs": [],
   "source": [
    "y_pred_new = np.array(y_use_prob['new_prediction'])"
   ]
  },
  {
   "cell_type": "code",
   "execution_count": 33,
   "id": "883dc88a",
   "metadata": {},
   "outputs": [
    {
     "data": {
      "text/plain": [
       "0.9827445325642874"
      ]
     },
     "execution_count": 33,
     "metadata": {},
     "output_type": "execute_result"
    }
   ],
   "source": [
    "accuracy_score(y_test, y_pred_new)"
   ]
  },
  {
   "cell_type": "code",
   "execution_count": 34,
   "id": "3b7b5e2e",
   "metadata": {},
   "outputs": [
    {
     "data": {
      "text/plain": [
       "array([[61174,   555],\n",
       "       [  522,   164]], dtype=int64)"
      ]
     },
     "execution_count": 34,
     "metadata": {},
     "output_type": "execute_result"
    }
   ],
   "source": [
    "confusion_matrix(y_test, y_pred_new)"
   ]
  },
  {
   "cell_type": "code",
   "execution_count": 35,
   "id": "7a82bbd3",
   "metadata": {},
   "outputs": [
    {
     "name": "stdout",
     "output_type": "stream",
     "text": [
      "              precision    recall  f1-score   support\n",
      "\n",
      "           0       0.99      0.99      0.99     61729\n",
      "           1       0.23      0.24      0.23       686\n",
      "\n",
      "    accuracy                           0.98     62415\n",
      "   macro avg       0.61      0.62      0.61     62415\n",
      "weighted avg       0.98      0.98      0.98     62415\n",
      "\n"
     ]
    }
   ],
   "source": [
    "print(classification_report(y_test, y_pred_new))"
   ]
  },
  {
   "cell_type": "code",
   "execution_count": 36,
   "id": "cb26c987",
   "metadata": {},
   "outputs": [
    {
     "name": "stdout",
     "output_type": "stream",
     "text": [
      "accuracy: 0.9827445325642874\n",
      "sensitivity: 0.239067055393586\n",
      "precision: 0.22809457579972184\n",
      "F1 Score: 0.23345195729537366\n"
     ]
    }
   ],
   "source": [
    "# Percent of all cases classified correctly\n",
    "print('accuracy:', accuracy_score(y_test, y_pred_new))\n",
    "\n",
    "# Proportion of 1s classified correctly as 1s\n",
    "print('sensitivity:', recall_score(y_test, y_pred_new))\n",
    "\n",
    "# Proportion of predicted 1s that are actually 1s\n",
    "print('precision:', precision_score(y_test, y_pred_new))\n",
    "\n",
    "# Harmonic mean of precision and recall\n",
    "print('F1 Score:', f1_score(y_test, y_pred_new))"
   ]
  },
  {
   "cell_type": "code",
   "execution_count": 37,
   "id": "e24acf45",
   "metadata": {},
   "outputs": [],
   "source": [
    "#fp_rate, tp_rate, thresholds "
   ]
  },
  {
   "cell_type": "markdown",
   "id": "cfbf3881",
   "metadata": {},
   "source": [
    "## Compute dollar value of predictions"
   ]
  },
  {
   "cell_type": "code",
   "execution_count": 45,
   "id": "d605782a",
   "metadata": {},
   "outputs": [
    {
     "name": "stdout",
     "output_type": "stream",
     "text": [
      "Derate count:  77\n",
      "Expense @ $4,000 per:  308000\n",
      "Faults predicted:  40.0\n",
      "Savings @ $4,000 per:  160000\n",
      "False alarms predicted:  FalsePositive    263\n",
      "dtype: int64\n",
      "Expense @ $500 per:  FalsePositive    131500\n",
      "dtype: int64\n"
     ]
    }
   ],
   "source": [
    "# Merge the predictions with y_test\n",
    "y_test_compare = pd.DataFrame(y_test.copy())\n",
    "y_test_compare['predictions'] = y_pred_new#y_pred\n",
    "y_test_compare = y_test_compare.merge(faults_sgd_full, left_index=True, right_index=True)\n",
    "\n",
    "#Manually calc our confusion matrix numbers\n",
    "y_test_compare['TrueNegative'] = np.where((y_test_compare['InFailureWindow_x']==0) & (y_test_compare['predictions']==0),1,0)\n",
    "y_test_compare['FalseNegative'] = np.where((y_test_compare['InFailureWindow_x']==1) & (y_test_compare['predictions']==0),1,0)\n",
    "y_test_compare['TruePositive'] = np.where((y_test_compare['InFailureWindow_x']==1) & (y_test_compare['predictions']==1),1,0)\n",
    "y_test_compare['FalsePositive'] = np.where((y_test_compare['InFailureWindow_x']==0) & (y_test_compare['predictions']==1),1,0)\n",
    "\n",
    "#Come up with some dollars\n",
    "y_test_compare['NextDerateTimestamp'] = y_test_compare['NextDerateTimestamp'].fillna(datetime.strptime('Dec 31 2099  11:59PM', '%b %d %Y %I:%M%p'))\n",
    "\n",
    "y_test_compareTP = y_test_compare.groupby(['EquipmentID','NextDerateTimestamp'])[['TruePositive']].sum()\n",
    "y_test_compareTP['SavingsPerTruePositive'] = np.where(y_test_compareTP['TruePositive']>0,4000,0)\n",
    "\n",
    "y_test_compareFP = y_test_compare[['EquipmentID','EventTimeStamp','FalsePositive']]\n",
    "y_test_compareFP['EventTimeStamp'] = y_test_compareFP['EventTimeStamp'].dt.date\n",
    "y_test_compareFP = y_test_compareFP.groupby(['EquipmentID','EventTimeStamp'])[['FalsePositive']].max()\n",
    "y_test_compareFP['FalsePositive'].sum()\n",
    "\n",
    "\n",
    "#Calc and print the totals\n",
    "max_derate = y_test_compare['NextDerateTimestamp'].max()\n",
    "#print(max_derate)\n",
    "derate_count = y_test_compare[y_test_compare['NextDerateTimestamp']<max_derate]['NextDerateTimestamp'].nunique()\n",
    "print('Derate count: ', derate_count)\n",
    "derate_expense = derate_count * 4000\n",
    "print('Expense @ $4,000 per: ', derate_expense)\n",
    "pred_savings = y_test_compareTP['SavingsPerTruePositive'].sum()\n",
    "print('Faults predicted: ', pred_savings / 4000)\n",
    "print('Savings @ $4,000 per: ', pred_savings)\n",
    "false_pos = y_test_compareFP.sum()\n",
    "print('False alarms predicted: ', false_pos)\n",
    "pred_exp = false_pos * 500\n",
    "print('Expense @ $500 per: ', pred_exp)\n",
    "#net_savings = pred_savings - pred_exp\n",
    "#print('Net Savings: ', net_savings)"
   ]
  },
  {
   "cell_type": "code",
   "execution_count": 84,
   "id": "c1e8def7",
   "metadata": {},
   "outputs": [
    {
     "name": "stdout",
     "output_type": "stream",
     "text": [
      "True Positive:  164\n",
      "False Positive:  555\n",
      "False Negative:  522\n",
      "True Negative:  61174\n"
     ]
    }
   ],
   "source": [
    "TruePositive = y_test_compare[y_test_compare['TruePositive']!=0]['TruePositive'].count()\n",
    "print('True Positive: ', TruePositive)\n",
    "FalsePositive = y_test_compare[y_test_compare['FalsePositive']!=0]['FalsePositive'].count()\n",
    "print('False Positive: ', FalsePositive)\n",
    "FalseNegative = pd.DataFrame(np.where((y_test_compare['FalseNegative']!=0) & \n",
    "                                      (y_test_compare['TruePositive']==0))).shape[1]\n",
    "print('False Negative: ', FalseNegative)\n",
    "TrueNegative = pd.DataFrame(np.where((y_test_compare['TrueNegative']!=0) & (y_test_compare['TruePositive']==0) &\n",
    "                     (y_test_compare['FalsePositive']==0) & (y_test_compare['FalseNegative']==0))).shape[1]\n",
    "print('True Negative: ', TrueNegative)"
   ]
  },
  {
   "cell_type": "code",
   "execution_count": null,
   "id": "5fb783e3",
   "metadata": {},
   "outputs": [],
   "source": []
  },
  {
   "cell_type": "code",
   "execution_count": null,
   "id": "7ba1bbdf",
   "metadata": {},
   "outputs": [],
   "source": []
  },
  {
   "cell_type": "code",
   "execution_count": null,
   "id": "7c7e237d",
   "metadata": {},
   "outputs": [],
   "source": []
  },
  {
   "cell_type": "code",
   "execution_count": null,
   "id": "c4919be8",
   "metadata": {},
   "outputs": [],
   "source": []
  },
  {
   "cell_type": "code",
   "execution_count": 76,
   "id": "53edbc92",
   "metadata": {},
   "outputs": [
    {
     "data": {
      "text/plain": [
       "(141,)"
      ]
     },
     "execution_count": 76,
     "metadata": {},
     "output_type": "execute_result"
    }
   ],
   "source": [
    "coefs = sgd_smote[1].coef_\n",
    "coefs[0].shape"
   ]
  },
  {
   "cell_type": "code",
   "execution_count": 80,
   "id": "821264b9",
   "metadata": {},
   "outputs": [
    {
     "data": {
      "text/plain": [
       "Index(['Summ_100', 'Summ_101', 'Summ_102', 'Summ_103', 'Summ_105', 'Summ_1072',\n",
       "       'Summ_1075', 'Summ_108', 'Summ_110', 'Summ_111',\n",
       "       ...\n",
       "       'Summ_723', 'Summ_7827', 'Summ_7854', 'Summ_81', 'Summ_84', 'Summ_862',\n",
       "       'Summ_91', 'Summ_95', 'Summ_96', 'Summ_97'],\n",
       "      dtype='object', length=141)"
      ]
     },
     "execution_count": 80,
     "metadata": {},
     "output_type": "execute_result"
    }
   ],
   "source": [
    "X.columns[1:]"
   ]
  },
  {
   "cell_type": "code",
   "execution_count": 82,
   "id": "264b210b",
   "metadata": {},
   "outputs": [
    {
     "data": {
      "text/html": [
       "<div>\n",
       "<style scoped>\n",
       "    .dataframe tbody tr th:only-of-type {\n",
       "        vertical-align: middle;\n",
       "    }\n",
       "\n",
       "    .dataframe tbody tr th {\n",
       "        vertical-align: top;\n",
       "    }\n",
       "\n",
       "    .dataframe thead th {\n",
       "        text-align: right;\n",
       "    }\n",
       "</style>\n",
       "<table border=\"1\" class=\"dataframe\">\n",
       "  <thead>\n",
       "    <tr style=\"text-align: right;\">\n",
       "      <th></th>\n",
       "      <th>coef</th>\n",
       "    </tr>\n",
       "  </thead>\n",
       "  <tbody>\n",
       "    <tr>\n",
       "      <th>Summ_3362</th>\n",
       "      <td>2.935813</td>\n",
       "    </tr>\n",
       "    <tr>\n",
       "      <th>Summ_6802</th>\n",
       "      <td>1.925481</td>\n",
       "    </tr>\n",
       "    <tr>\n",
       "      <th>Summ_4340</th>\n",
       "      <td>1.322934</td>\n",
       "    </tr>\n",
       "    <tr>\n",
       "      <th>Summ_3216</th>\n",
       "      <td>1.145996</td>\n",
       "    </tr>\n",
       "    <tr>\n",
       "      <th>Summ_3218</th>\n",
       "      <td>1.010679</td>\n",
       "    </tr>\n",
       "    <tr>\n",
       "      <th>Summ_5743</th>\n",
       "      <td>0.975570</td>\n",
       "    </tr>\n",
       "    <tr>\n",
       "      <th>Summ_105</th>\n",
       "      <td>0.967898</td>\n",
       "    </tr>\n",
       "    <tr>\n",
       "      <th>Summ_3031</th>\n",
       "      <td>0.857858</td>\n",
       "    </tr>\n",
       "    <tr>\n",
       "      <th>Summ_5394</th>\n",
       "      <td>0.691147</td>\n",
       "    </tr>\n",
       "    <tr>\n",
       "      <th>Summ_4094</th>\n",
       "      <td>0.639505</td>\n",
       "    </tr>\n",
       "  </tbody>\n",
       "</table>\n",
       "</div>"
      ],
      "text/plain": [
       "               coef\n",
       "Summ_3362  2.935813\n",
       "Summ_6802  1.925481\n",
       "Summ_4340  1.322934\n",
       "Summ_3216  1.145996\n",
       "Summ_3218  1.010679\n",
       "Summ_5743  0.975570\n",
       "Summ_105   0.967898\n",
       "Summ_3031  0.857858\n",
       "Summ_5394  0.691147\n",
       "Summ_4094  0.639505"
      ]
     },
     "execution_count": 82,
     "metadata": {},
     "output_type": "execute_result"
    }
   ],
   "source": [
    "pd.DataFrame(coefs[0], X.columns[1:], columns = ['coef']).sort_values('coef', ascending=False).head(10)"
   ]
  },
  {
   "cell_type": "code",
   "execution_count": 83,
   "id": "30de8b97",
   "metadata": {},
   "outputs": [
    {
     "data": {
      "text/html": [
       "<div>\n",
       "<style scoped>\n",
       "    .dataframe tbody tr th:only-of-type {\n",
       "        vertical-align: middle;\n",
       "    }\n",
       "\n",
       "    .dataframe tbody tr th {\n",
       "        vertical-align: top;\n",
       "    }\n",
       "\n",
       "    .dataframe thead th {\n",
       "        text-align: right;\n",
       "    }\n",
       "</style>\n",
       "<table border=\"1\" class=\"dataframe\">\n",
       "  <thead>\n",
       "    <tr style=\"text-align: right;\">\n",
       "      <th></th>\n",
       "      <th>coef</th>\n",
       "    </tr>\n",
       "  </thead>\n",
       "  <tbody>\n",
       "    <tr>\n",
       "      <th>Summ_110</th>\n",
       "      <td>-0.626872</td>\n",
       "    </tr>\n",
       "    <tr>\n",
       "      <th>Summ_5853</th>\n",
       "      <td>-0.648607</td>\n",
       "    </tr>\n",
       "    <tr>\n",
       "      <th>Summ_5746</th>\n",
       "      <td>-0.703947</td>\n",
       "    </tr>\n",
       "    <tr>\n",
       "      <th>Summ_3228</th>\n",
       "      <td>-0.709502</td>\n",
       "    </tr>\n",
       "    <tr>\n",
       "      <th>Summ_4339</th>\n",
       "      <td>-0.729684</td>\n",
       "    </tr>\n",
       "    <tr>\n",
       "      <th>Summ_3222</th>\n",
       "      <td>-0.915340</td>\n",
       "    </tr>\n",
       "    <tr>\n",
       "      <th>Summ_641</th>\n",
       "      <td>-0.941860</td>\n",
       "    </tr>\n",
       "    <tr>\n",
       "      <th>Summ_91</th>\n",
       "      <td>-1.012627</td>\n",
       "    </tr>\n",
       "    <tr>\n",
       "      <th>Summ_3251</th>\n",
       "      <td>-1.783201</td>\n",
       "    </tr>\n",
       "    <tr>\n",
       "      <th>Summ_97</th>\n",
       "      <td>-3.312246</td>\n",
       "    </tr>\n",
       "  </tbody>\n",
       "</table>\n",
       "</div>"
      ],
      "text/plain": [
       "               coef\n",
       "Summ_110  -0.626872\n",
       "Summ_5853 -0.648607\n",
       "Summ_5746 -0.703947\n",
       "Summ_3228 -0.709502\n",
       "Summ_4339 -0.729684\n",
       "Summ_3222 -0.915340\n",
       "Summ_641  -0.941860\n",
       "Summ_91   -1.012627\n",
       "Summ_3251 -1.783201\n",
       "Summ_97   -3.312246"
      ]
     },
     "execution_count": 83,
     "metadata": {},
     "output_type": "execute_result"
    }
   ],
   "source": [
    "pd.DataFrame(coefs[0], X.columns[1:], columns = ['coef']).sort_values('coef', ascending=False).tail(10)"
   ]
  },
  {
   "cell_type": "code",
   "execution_count": null,
   "id": "ddbcd847",
   "metadata": {},
   "outputs": [],
   "source": []
  },
  {
   "cell_type": "code",
   "execution_count": null,
   "id": "6e5f3d30",
   "metadata": {},
   "outputs": [],
   "source": []
  },
  {
   "cell_type": "code",
   "execution_count": null,
   "id": "540c0a53",
   "metadata": {},
   "outputs": [],
   "source": []
  },
  {
   "cell_type": "code",
   "execution_count": null,
   "id": "8be43f42",
   "metadata": {},
   "outputs": [],
   "source": []
  },
  {
   "cell_type": "markdown",
   "id": "8b339b86",
   "metadata": {},
   "source": [
    "## Model scoring log"
   ]
  },
  {
   "cell_type": "markdown",
   "id": "e0437bf2",
   "metadata": {},
   "source": [
    "15/15 model stats\n",
    "accuracy: 0.9246598075008298\n",
    "sensitivity: 0.512273212379936\n",
    "precision: 0.13132694938440492\n",
    "F1 Score: 0.20905923344947736\n",
    "\n",
    "15/15 model stats w/standard scaler\n",
    "accuracy: 0.9182085960836376\n",
    "sensitivity: 0.5346851654215582\n",
    "precision: 0.125\n",
    "F1 Score: 0.20262891809909\n",
    "\n",
    "5/10 model stats\n",
    "accuracy: 0.9397536666396564\n",
    "sensitivity: 0.6173570019723866\n",
    "precision: 0.10119624959586163\n",
    "F1 Score: 0.1738888888888889\n",
    "\n",
    "5/10 model stats w/standard scaler\n",
    "accuracy: 0.9332306944331902\n",
    "sensitivity: 0.6528599605522682\n",
    "precision: 0.09591422776006954\n",
    "F1 Score: 0.16725618999494696\n",
    "\n",
    "3/3 model stats\n",
    "accuracy: 0.9429271499432259\n",
    "sensitivity: 0.6391509433962265\n",
    "precision: 0.09084813945692256\n",
    "F1 Score: 0.15908423833284416\n",
    "\n",
    "3/3 model stats w/standard scaler\n",
    "accuracy: 0.9473296280802407\n",
    "sensitivity: 0.6297169811320755\n",
    "precision: 0.09694989106753812\n",
    "F1 Score: 0.16803020767778476\n",
    "\n",
    "3/15 model stats\n",
    "accuracy: 0.9398675496688742\n",
    "sensitivity: 0.7432098765432099\n",
    "precision: 0.09561626429479034\n",
    "F1 Score: 0.16943428088938925\n",
    "\n",
    "3/15 model w/standard scaler\n",
    "accuracy: 0.9334080489047376\n",
    "sensitivity: 0.7432098765432099\n",
    "precision: 0.08686868686868687\n",
    "F1 Score: 0.15555555555555556\n",
    "\n",
    "3/30 model stats\n",
    "accuracy: 0.3530028738646137\n",
    "sensitivity: 0.9047619047619048\n",
    "precision: 0.011583135468138356\n",
    "F1 Score: 0.022873435767463965\n",
    "\n",
    "3/30 model w/standard scaler\n",
    "accuracy: 0.921105074363869\n",
    "sensitivity: 0.7243107769423559\n",
    "precision: 0.0733502538071066\n",
    "F1 Score: 0.133210417146808\n",
    "\n",
    "2/2 model w/standard scaler\n",
    "accuracy: 0.9437431883483602\n",
    "sensitivity: 0.7526881720430108\n",
    "precision: 0.09250082590023125\n",
    "F1 Score: 0.16475433951162105\n",
    "\n",
    "2/2 model no scaler\n",
    "accuracy: 0.938300088119843\n",
    "sensitivity: 0.5991253644314869\n",
    "precision: 0.10308502633559068\n",
    "F1 Score: 0.1759041301091376\n",
    "\n",
    "1/2 model w/standard scaler\n",
    "accuracy: 0.9442093188829997\n",
    "sensitivity: 0.7682119205298014\n",
    "precision: 0.07777405296681193\n",
    "F1 Score: 0.14124809741248098\n",
    "\n",
    "2/1 model w/standard scaler\n",
    "accuracy: 0.9444356717066046\n",
    "sensitivity: 0.701058201058201\n",
    "precision: 0.08931580721267274\n",
    "F1 Score: 0.15844544095665172\n",
    "\n",
    "2/3 model w/standard scaler\n",
    "accuracy: 0.945498289986479\n",
    "sensitivity: 0.7146739130434783\n",
    "precision: 0.09072093825457055\n",
    "F1 Score: 0.1610039791857974\n",
    "\n",
    "3/2 model w/standard scaler\n",
    "accuracy: 0.943380119513212\n",
    "sensitivity: 0.6495327102803738\n",
    "precision: 0.09328859060402685\n",
    "F1 Score: 0.16314553990610328\n",
    "\n",
    "1/1 model w/standard scaler\n",
    "accuracy: 0.9436378321940072\n",
    "sensitivity: 0.762987012987013\n",
    "precision: 0.07773734700628515\n",
    "F1 Score: 0.1410987691383969\n",
    "\n",
    "2/2 random forest\n",
    "accuracy: 0.9583275537501238\n",
    "sensitivity: 0.5833333333333334\n",
    "precision: 0.10023094688221709\n",
    "F1 Score: 0.17106819077650767"
   ]
  },
  {
   "cell_type": "code",
   "execution_count": 46,
   "id": "bf093cbd",
   "metadata": {},
   "outputs": [],
   "source": [
    "from sklearn.ensemble import RandomForestClassifier"
   ]
  },
  {
   "cell_type": "code",
   "execution_count": 47,
   "id": "63e2be68",
   "metadata": {},
   "outputs": [],
   "source": [
    "forest_clf = RandomForestClassifier(random_state=217)\n",
    "#y_probas_forest = cross_val_predict(forest_clf, X_smote, y_smote.values.ravel(), cv=3, method='predict_proba')"
   ]
  },
  {
   "cell_type": "code",
   "execution_count": 48,
   "id": "6ac29a09",
   "metadata": {},
   "outputs": [
    {
     "data": {
      "text/plain": [
       "RandomForestClassifier(random_state=217)"
      ]
     },
     "execution_count": 48,
     "metadata": {},
     "output_type": "execute_result"
    }
   ],
   "source": [
    "forest_clf.fit(X_smote, y_smote.values.ravel())"
   ]
  },
  {
   "cell_type": "code",
   "execution_count": 49,
   "id": "d36ac257",
   "metadata": {},
   "outputs": [],
   "source": [
    "y_pred = forest_clf.predict(X_test)"
   ]
  },
  {
   "cell_type": "code",
   "execution_count": 50,
   "id": "0d410192",
   "metadata": {},
   "outputs": [
    {
     "data": {
      "text/plain": [
       "0.9474004646318994"
      ]
     },
     "execution_count": 50,
     "metadata": {},
     "output_type": "execute_result"
    }
   ],
   "source": [
    "accuracy_score(y_test, y_pred)"
   ]
  },
  {
   "cell_type": "code",
   "execution_count": 51,
   "id": "5955ed7f",
   "metadata": {},
   "outputs": [
    {
     "data": {
      "text/plain": [
       "array([[58930,  2799],\n",
       "       [  484,   202]], dtype=int64)"
      ]
     },
     "execution_count": 51,
     "metadata": {},
     "output_type": "execute_result"
    }
   ],
   "source": [
    "confusion_matrix(y_test, y_pred)"
   ]
  },
  {
   "cell_type": "code",
   "execution_count": 52,
   "id": "f59ce54f",
   "metadata": {},
   "outputs": [
    {
     "name": "stdout",
     "output_type": "stream",
     "text": [
      "              precision    recall  f1-score   support\n",
      "\n",
      "           0       0.99      0.95      0.97     61729\n",
      "           1       0.07      0.29      0.11       686\n",
      "\n",
      "    accuracy                           0.95     62415\n",
      "   macro avg       0.53      0.62      0.54     62415\n",
      "weighted avg       0.98      0.95      0.96     62415\n",
      "\n"
     ]
    }
   ],
   "source": [
    "print(classification_report(y_test, y_pred))"
   ]
  },
  {
   "cell_type": "code",
   "execution_count": null,
   "id": "79560891",
   "metadata": {},
   "outputs": [],
   "source": [
    "y_scores_forest = y_probas_forest[:, 1]\n",
    "fpr_forest, tpr_forest, thresholds_forest = roc_curve(y_smote, y_scores_forest)"
   ]
  },
  {
   "cell_type": "code",
   "execution_count": null,
   "id": "554bb940",
   "metadata": {},
   "outputs": [],
   "source": [
    "def plot_roc_curve(fpr, tpr, label=None):\n",
    "    plt.plot(fpr, tpr, linewidth=2, label=label)\n",
    "    plt.plot([0, 1], [0, 1], 'k--') # dashed diagonal\n",
    "    plt.axis([0, 1, 0, 1])                                    # Not shown in the book\n",
    "    plt.xlabel('False Positive Rate (Fall-Out)', fontsize=16) # Not shown\n",
    "    plt.ylabel('True Positive Rate (Recall)', fontsize=16)    # Not shown\n",
    "    plt.grid(True)                                            # Not shown"
   ]
  },
  {
   "cell_type": "code",
   "execution_count": null,
   "id": "a2388968",
   "metadata": {},
   "outputs": [],
   "source": [
    "plot_roc_curve(fpr_forest, tpr_forest, \"Random Forest\")"
   ]
  },
  {
   "cell_type": "code",
   "execution_count": null,
   "id": "b7d35b8a",
   "metadata": {},
   "outputs": [],
   "source": [
    "y_scores = cross_val_predict(sgd_smote, X_smote, y_smote, cv=3, method='decision_function')\n",
    "fpr, tpr, thresholds = roc_curve(y_smote, y_scores)"
   ]
  },
  {
   "cell_type": "code",
   "execution_count": null,
   "id": "470baced",
   "metadata": {},
   "outputs": [],
   "source": [
    "plot_roc_curve(fpr, tpr, \"SGD Classifier\")"
   ]
  },
  {
   "cell_type": "code",
   "execution_count": null,
   "id": "209e7faf",
   "metadata": {},
   "outputs": [],
   "source": []
  },
  {
   "cell_type": "code",
   "execution_count": null,
   "id": "fbff4442",
   "metadata": {},
   "outputs": [],
   "source": [
    "faults_sgd[['Summ_5394','Summ_1761','Summ_4094','Summ_4334','Summ_4339']].sum()\n",
    "#'Summ_5392',"
   ]
  },
  {
   "cell_type": "markdown",
   "id": "2ff3dd18",
   "metadata": {},
   "source": [
    "add a lasso to the above\n",
    "in the presentation, talk about what the coefficients are, what it's using, what it's ignoring\n",
    "for decision trees, you can talk about feature importance\n",
    "when evaluating models, as long as you have one correct prediction then you have a win\n",
    "what are the observations where it feels the strongest about them ... what were the characteristics on those\n",
    "i.e., if you look at predicted probababilities like what is at the upper end\n",
    "where were your false negatives in the range of probabilities?\n"
   ]
  }
 ],
 "metadata": {
  "kernelspec": {
   "display_name": "Python 3",
   "language": "python",
   "name": "python3"
  },
  "language_info": {
   "codemirror_mode": {
    "name": "ipython",
    "version": 3
   },
   "file_extension": ".py",
   "mimetype": "text/x-python",
   "name": "python",
   "nbconvert_exporter": "python",
   "pygments_lexer": "ipython3",
   "version": "3.8.3"
  }
 },
 "nbformat": 4,
 "nbformat_minor": 5
}
