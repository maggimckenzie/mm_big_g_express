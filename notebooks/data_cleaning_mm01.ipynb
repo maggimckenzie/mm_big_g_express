{
 "cells": [
  {
   "cell_type": "code",
   "execution_count": 1,
   "id": "verbal-tourist",
   "metadata": {},
   "outputs": [],
   "source": [
    "import re\n",
    "\n",
    "import pandas as pd\n",
    "import numpy as np\n",
    "import matplotlib.pyplot as plt\n",
    "import seaborn as sns\n",
    "import scipy.stats as stats\n",
    "import statsmodels.api as sm"
   ]
  },
  {
   "cell_type": "code",
   "execution_count": null,
   "id": "accomplished-semiconductor",
   "metadata": {},
   "outputs": [],
   "source": [
    "with open('../data/j1939_faults_true.csv', 'w') as out_file:\n",
    "    with open('../data/J1939Faults.csv') as in_file:\n",
    "        for line in in_file.readlines():\n",
    "            if 'True' in line:\n",
    "                out_file.write(line)"
   ]
  },
  {
   "cell_type": "code",
   "execution_count": 2,
   "id": "automatic-specific",
   "metadata": {},
   "outputs": [],
   "source": [
    "col_names = [\n",
    "    \"RecordID\",\n",
    "    \"ESS_Id\",\n",
    "    \"EventTimeStamp\",\n",
    "    \"eventDescription\",\n",
    "    \"actionDescription\",\n",
    "    \"ecuSoftwareVersion\",\n",
    "    \"ecuSerialNumber\",\n",
    "    \"ecuModel\",\n",
    "    \"ecuMake\",\n",
    "    \"ecuSource\",\n",
    "    \"spn\",\n",
    "    \"fmi\",\n",
    "    \"active\",\n",
    "    \"activeTransitionCount\",\n",
    "    \"faultValue\",\n",
    "    \"EquipmentID\",\n",
    "    \"MCTNumber\",\n",
    "    \"Latitude\",\n",
    "    \"Longitude\",\n",
    "    \"LocationTimeStamp\"\n",
    "]"
   ]
  },
  {
   "cell_type": "code",
   "execution_count": 3,
   "id": "actual-anniversary",
   "metadata": {},
   "outputs": [],
   "source": [
    "use_cols = [\n",
    "    \"RecordID\",\n",
    "    \"ESS_Id\",\n",
    "    \"EventTimeStamp\",\n",
    "    \"eventDescription\",\n",
    "    \"ecuSoftwareVersion\",\n",
    "    \"ecuSerialNumber\",\n",
    "    \"ecuModel\",\n",
    "    \"ecuMake\",\n",
    "    \"ecuSource\",\n",
    "    \"spn\",\n",
    "    \"fmi\",\n",
    "    \"active\",\n",
    "    \"activeTransitionCount\",\n",
    "    \"EquipmentID\",\n",
    "    \"MCTNumber\",\n",
    "    \"Latitude\",\n",
    "    \"Longitude\",\n",
    "    \"LocationTimeStamp\"\n",
    "]"
   ]
  },
  {
   "cell_type": "code",
   "execution_count": 4,
   "id": "prostate-tunnel",
   "metadata": {},
   "outputs": [
    {
     "name": "stderr",
     "output_type": "stream",
     "text": [
      "C:\\Users\\maggi\\Anaconda3\\lib\\site-packages\\IPython\\core\\interactiveshell.py:3165: DtypeWarning: Columns (15) have mixed types.Specify dtype option on import or set low_memory=False.\n",
      "  has_raised = await self.run_ast_nodes(code_ast.body, cell_name,\n"
     ]
    }
   ],
   "source": [
    "df = pd.read_csv('../data/j1939_faults_true.csv', names = col_names, usecols = use_cols)"
   ]
  },
  {
   "cell_type": "code",
   "execution_count": 5,
   "id": "expired-architect",
   "metadata": {},
   "outputs": [
    {
     "data": {
      "text/html": [
       "<div>\n",
       "<style scoped>\n",
       "    .dataframe tbody tr th:only-of-type {\n",
       "        vertical-align: middle;\n",
       "    }\n",
       "\n",
       "    .dataframe tbody tr th {\n",
       "        vertical-align: top;\n",
       "    }\n",
       "\n",
       "    .dataframe thead th {\n",
       "        text-align: right;\n",
       "    }\n",
       "</style>\n",
       "<table border=\"1\" class=\"dataframe\">\n",
       "  <thead>\n",
       "    <tr style=\"text-align: right;\">\n",
       "      <th></th>\n",
       "      <th>RecordID</th>\n",
       "      <th>ESS_Id</th>\n",
       "      <th>EventTimeStamp</th>\n",
       "      <th>eventDescription</th>\n",
       "      <th>ecuSoftwareVersion</th>\n",
       "      <th>ecuSerialNumber</th>\n",
       "      <th>ecuModel</th>\n",
       "      <th>ecuMake</th>\n",
       "      <th>ecuSource</th>\n",
       "      <th>spn</th>\n",
       "      <th>fmi</th>\n",
       "      <th>active</th>\n",
       "      <th>activeTransitionCount</th>\n",
       "      <th>EquipmentID</th>\n",
       "      <th>MCTNumber</th>\n",
       "      <th>Latitude</th>\n",
       "      <th>Longitude</th>\n",
       "      <th>LocationTimeStamp</th>\n",
       "    </tr>\n",
       "  </thead>\n",
       "  <tbody>\n",
       "    <tr>\n",
       "      <th>0</th>\n",
       "      <td>1</td>\n",
       "      <td>990349</td>\n",
       "      <td>2015-02-21 10:47:13.000</td>\n",
       "      <td>Low (Severity Low) Engine Coolant Level</td>\n",
       "      <td>unknown</td>\n",
       "      <td>unknown</td>\n",
       "      <td>unknown</td>\n",
       "      <td>unknown</td>\n",
       "      <td>0</td>\n",
       "      <td>111</td>\n",
       "      <td>17</td>\n",
       "      <td>True</td>\n",
       "      <td>2</td>\n",
       "      <td>1439</td>\n",
       "      <td>105354361</td>\n",
       "      <td>38.857638</td>\n",
       "      <td>-84.626851</td>\n",
       "      <td>2015-02-21 11:34:25.000</td>\n",
       "    </tr>\n",
       "    <tr>\n",
       "      <th>1</th>\n",
       "      <td>2</td>\n",
       "      <td>990360</td>\n",
       "      <td>2015-02-21 11:34:34.000</td>\n",
       "      <td>NaN</td>\n",
       "      <td>unknown</td>\n",
       "      <td>unknown</td>\n",
       "      <td>unknown</td>\n",
       "      <td>unknown</td>\n",
       "      <td>11</td>\n",
       "      <td>629</td>\n",
       "      <td>12</td>\n",
       "      <td>True</td>\n",
       "      <td>127</td>\n",
       "      <td>1439</td>\n",
       "      <td>105354361</td>\n",
       "      <td>38.857638</td>\n",
       "      <td>-84.626851</td>\n",
       "      <td>2015-02-21 11:35:10.000</td>\n",
       "    </tr>\n",
       "    <tr>\n",
       "      <th>2</th>\n",
       "      <td>4</td>\n",
       "      <td>990370</td>\n",
       "      <td>2015-02-21 11:35:33.000</td>\n",
       "      <td>Incorrect Data Steering Wheel Angle</td>\n",
       "      <td>unknown</td>\n",
       "      <td>unknown</td>\n",
       "      <td>unknown</td>\n",
       "      <td>unknown</td>\n",
       "      <td>11</td>\n",
       "      <td>1807</td>\n",
       "      <td>2</td>\n",
       "      <td>True</td>\n",
       "      <td>127</td>\n",
       "      <td>1369</td>\n",
       "      <td>105336226</td>\n",
       "      <td>41.421018</td>\n",
       "      <td>-87.767361</td>\n",
       "      <td>2015-02-21 11:36:08.000</td>\n",
       "    </tr>\n",
       "    <tr>\n",
       "      <th>3</th>\n",
       "      <td>6</td>\n",
       "      <td>990431</td>\n",
       "      <td>2015-02-21 11:40:22.000</td>\n",
       "      <td>Low (Severity Low) Engine Coolant Level</td>\n",
       "      <td>04993120*00025921*082113134117*07700053*I0*BBZ*</td>\n",
       "      <td>79466580</td>\n",
       "      <td>6X1u10D1500000000</td>\n",
       "      <td>CMMNS</td>\n",
       "      <td>0</td>\n",
       "      <td>111</td>\n",
       "      <td>17</td>\n",
       "      <td>True</td>\n",
       "      <td>1</td>\n",
       "      <td>1417</td>\n",
       "      <td>105438630</td>\n",
       "      <td>33.043564</td>\n",
       "      <td>-96.179722</td>\n",
       "      <td>2015-02-21 11:40:59.000</td>\n",
       "    </tr>\n",
       "    <tr>\n",
       "      <th>4</th>\n",
       "      <td>7</td>\n",
       "      <td>990439</td>\n",
       "      <td>2015-02-21 11:40:52.000</td>\n",
       "      <td>Low (Severity Low) Engine Coolant Level</td>\n",
       "      <td>unknown</td>\n",
       "      <td>unknown</td>\n",
       "      <td>unknown</td>\n",
       "      <td>unknown</td>\n",
       "      <td>0</td>\n",
       "      <td>111</td>\n",
       "      <td>17</td>\n",
       "      <td>True</td>\n",
       "      <td>2</td>\n",
       "      <td>1597</td>\n",
       "      <td>105344243</td>\n",
       "      <td>36.902916</td>\n",
       "      <td>-86.436481</td>\n",
       "      <td>2015-02-21 11:41:29.000</td>\n",
       "    </tr>\n",
       "  </tbody>\n",
       "</table>\n",
       "</div>"
      ],
      "text/plain": [
       "   RecordID  ESS_Id           EventTimeStamp  \\\n",
       "0         1  990349  2015-02-21 10:47:13.000   \n",
       "1         2  990360  2015-02-21 11:34:34.000   \n",
       "2         4  990370  2015-02-21 11:35:33.000   \n",
       "3         6  990431  2015-02-21 11:40:22.000   \n",
       "4         7  990439  2015-02-21 11:40:52.000   \n",
       "\n",
       "                          eventDescription  \\\n",
       "0  Low (Severity Low) Engine Coolant Level   \n",
       "1                                      NaN   \n",
       "2      Incorrect Data Steering Wheel Angle   \n",
       "3  Low (Severity Low) Engine Coolant Level   \n",
       "4  Low (Severity Low) Engine Coolant Level   \n",
       "\n",
       "                                ecuSoftwareVersion ecuSerialNumber  \\\n",
       "0                                          unknown         unknown   \n",
       "1                                          unknown         unknown   \n",
       "2                                          unknown         unknown   \n",
       "3  04993120*00025921*082113134117*07700053*I0*BBZ*        79466580   \n",
       "4                                          unknown         unknown   \n",
       "\n",
       "            ecuModel  ecuMake  ecuSource   spn  fmi  active  \\\n",
       "0            unknown  unknown          0   111   17    True   \n",
       "1            unknown  unknown         11   629   12    True   \n",
       "2            unknown  unknown         11  1807    2    True   \n",
       "3  6X1u10D1500000000    CMMNS          0   111   17    True   \n",
       "4            unknown  unknown          0   111   17    True   \n",
       "\n",
       "   activeTransitionCount EquipmentID  MCTNumber   Latitude  Longitude  \\\n",
       "0                      2        1439  105354361  38.857638 -84.626851   \n",
       "1                    127        1439  105354361  38.857638 -84.626851   \n",
       "2                    127        1369  105336226  41.421018 -87.767361   \n",
       "3                      1        1417  105438630  33.043564 -96.179722   \n",
       "4                      2        1597  105344243  36.902916 -86.436481   \n",
       "\n",
       "         LocationTimeStamp  \n",
       "0  2015-02-21 11:34:25.000  \n",
       "1  2015-02-21 11:35:10.000  \n",
       "2  2015-02-21 11:36:08.000  \n",
       "3  2015-02-21 11:40:59.000  \n",
       "4  2015-02-21 11:41:29.000  "
      ]
     },
     "execution_count": 5,
     "metadata": {},
     "output_type": "execute_result"
    }
   ],
   "source": [
    "df.head()"
   ]
  },
  {
   "cell_type": "code",
   "execution_count": 6,
   "id": "similar-thumbnail",
   "metadata": {},
   "outputs": [
    {
     "name": "stdout",
     "output_type": "stream",
     "text": [
      "<class 'pandas.core.frame.DataFrame'>\n",
      "RangeIndex: 608454 entries, 0 to 608453\n",
      "Data columns (total 18 columns):\n",
      " #   Column                 Non-Null Count   Dtype  \n",
      "---  ------                 --------------   -----  \n",
      " 0   RecordID               608454 non-null  int64  \n",
      " 1   ESS_Id                 608454 non-null  int64  \n",
      " 2   EventTimeStamp         608454 non-null  object \n",
      " 3   eventDescription       574302 non-null  object \n",
      " 4   ecuSoftwareVersion     460552 non-null  object \n",
      " 5   ecuSerialNumber        437004 non-null  object \n",
      " 6   ecuModel               576200 non-null  object \n",
      " 7   ecuMake                576200 non-null  object \n",
      " 8   ecuSource              608454 non-null  int64  \n",
      " 9   spn                    608454 non-null  int64  \n",
      " 10  fmi                    608454 non-null  int64  \n",
      " 11  active                 608454 non-null  bool   \n",
      " 12  activeTransitionCount  608454 non-null  int64  \n",
      " 13  EquipmentID            608454 non-null  object \n",
      " 14  MCTNumber              608454 non-null  int64  \n",
      " 15  Latitude               608454 non-null  float64\n",
      " 16  Longitude              608454 non-null  float64\n",
      " 17  LocationTimeStamp      608454 non-null  object \n",
      "dtypes: bool(1), float64(2), int64(7), object(8)\n",
      "memory usage: 79.5+ MB\n"
     ]
    }
   ],
   "source": [
    "df.info()"
   ]
  },
  {
   "cell_type": "code",
   "execution_count": 7,
   "id": "proper-stage",
   "metadata": {},
   "outputs": [],
   "source": [
    "df['EquipmentID'] = df['EquipmentID'].astype(str)"
   ]
  },
  {
   "cell_type": "code",
   "execution_count": 8,
   "id": "manual-scenario",
   "metadata": {},
   "outputs": [],
   "source": [
    "df = df[df['EquipmentID'].str.len()<=5]"
   ]
  },
  {
   "cell_type": "code",
   "execution_count": 9,
   "id": "chicken-section",
   "metadata": {},
   "outputs": [],
   "source": [
    "df = df[~((round(df['Latitude'], 3) == 36.067) & (round(df['Longitude'],3) == -86.435))]\n"
   ]
  },
  {
   "cell_type": "code",
   "execution_count": 10,
   "id": "prompt-basketball",
   "metadata": {},
   "outputs": [],
   "source": [
    "df = df[~((round(df['Latitude'], 3) == 35.588) & (round(df['Longitude'],3) == -86.444))]\n"
   ]
  },
  {
   "cell_type": "code",
   "execution_count": 11,
   "id": "historic-switzerland",
   "metadata": {},
   "outputs": [],
   "source": [
    "df = df[~((round(df['Latitude'], 3) == 36.195) & (round(df['Longitude'],3) == -83.175))]"
   ]
  },
  {
   "cell_type": "code",
   "execution_count": 13,
   "id": "threatened-calendar",
   "metadata": {},
   "outputs": [],
   "source": [
    "df[['EventTimeStamp', 'LocationTimeStamp']] = df[['EventTimeStamp', 'LocationTimeStamp']].apply(pd.to_datetime)"
   ]
  },
  {
   "cell_type": "code",
   "execution_count": 14,
   "id": "secondary-disclaimer",
   "metadata": {},
   "outputs": [
    {
     "name": "stdout",
     "output_type": "stream",
     "text": [
      "<class 'pandas.core.frame.DataFrame'>\n",
      "Int64Index: 577231 entries, 0 to 608453\n",
      "Data columns (total 18 columns):\n",
      " #   Column                 Non-Null Count   Dtype         \n",
      "---  ------                 --------------   -----         \n",
      " 0   RecordID               577231 non-null  int64         \n",
      " 1   ESS_Id                 577231 non-null  int64         \n",
      " 2   EventTimeStamp         577231 non-null  datetime64[ns]\n",
      " 3   eventDescription       545727 non-null  object        \n",
      " 4   ecuSoftwareVersion     437490 non-null  object        \n",
      " 5   ecuSerialNumber        414970 non-null  object        \n",
      " 6   ecuModel               547182 non-null  object        \n",
      " 7   ecuMake                547182 non-null  object        \n",
      " 8   ecuSource              577231 non-null  int64         \n",
      " 9   spn                    577231 non-null  int64         \n",
      " 10  fmi                    577231 non-null  int64         \n",
      " 11  active                 577231 non-null  bool          \n",
      " 12  activeTransitionCount  577231 non-null  int64         \n",
      " 13  EquipmentID            577231 non-null  object        \n",
      " 14  MCTNumber              577231 non-null  int64         \n",
      " 15  Latitude               577231 non-null  float64       \n",
      " 16  Longitude              577231 non-null  float64       \n",
      " 17  LocationTimeStamp      577231 non-null  datetime64[ns]\n",
      "dtypes: bool(1), datetime64[ns](2), float64(2), int64(7), object(6)\n",
      "memory usage: 79.8+ MB\n"
     ]
    }
   ],
   "source": [
    "df.info()"
   ]
  },
  {
   "cell_type": "code",
   "execution_count": 16,
   "id": "pediatric-notification",
   "metadata": {},
   "outputs": [],
   "source": [
    "df.to_csv('../data/filtered_df.csv', index = False)"
   ]
  },
  {
   "cell_type": "code",
   "execution_count": null,
   "id": "ruled-guest",
   "metadata": {},
   "outputs": [],
   "source": []
  }
 ],
 "metadata": {
  "kernelspec": {
   "display_name": "Python 3",
   "language": "python",
   "name": "python3"
  },
  "language_info": {
   "codemirror_mode": {
    "name": "ipython",
    "version": 3
   },
   "file_extension": ".py",
   "mimetype": "text/x-python",
   "name": "python",
   "nbconvert_exporter": "python",
   "pygments_lexer": "ipython3",
   "version": "3.8.3"
  }
 },
 "nbformat": 4,
 "nbformat_minor": 5
}
